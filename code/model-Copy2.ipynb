{
 "cells": [
  {
   "cell_type": "markdown",
   "id": "b1fb60d8-ce3d-462d-94b4-77fcea16d4f9",
   "metadata": {},
   "source": [
    "## Models, Models, Models!"
   ]
  },
  {
   "cell_type": "code",
   "execution_count": 81,
   "id": "b844f8b7-a71f-4560-b8f5-e54d1bf23436",
   "metadata": {},
   "outputs": [],
   "source": [
    "import pandas as pd\n",
    "import numpy as np\n",
    "import seaborn as sns\n",
    "import matplotlib.pyplot as plt\n",
    "\n",
    "from sklearn.linear_model import LinearRegression, Lasso, LassoCV, Ridge, RidgeCV\n",
    "from sklearn.compose import ColumnTransformer\n",
    "from sklearn.preprocessing import StandardScaler, OneHotEncoder, PolynomialFeatures\n",
    "from sklearn.model_selection import train_test_split, cross_val_score, GridSearchCV\n",
    "from sklearn.metrics import mean_squared_error\n",
    "from sklearn.pipeline import Pipeline\n",
    "from sklearn.compose import TransformedTargetRegressor\n",
    "\n",
    "#from extra extras\n",
    "import sys\n",
    "\n",
    "if not sys.warnoptions:\n",
    "    import warnings\n",
    "    warnings.simplefilter(\"ignore\")"
   ]
  },
  {
   "cell_type": "code",
   "execution_count": null,
   "id": "9c451709-fbed-48d6-b386-73fad9b44967",
   "metadata": {},
   "outputs": [],
   "source": [
    "results = "
   ]
  },
  {
   "cell_type": "markdown",
   "id": "6a2808d3-79b5-4f61-9851-7003379edf68",
   "metadata": {},
   "source": [
    "### Train/Validation Split"
   ]
  },
  {
   "cell_type": "code",
   "execution_count": 82,
   "id": "c67736b3-aca7-43de-a267-a435c5299ffc",
   "metadata": {},
   "outputs": [],
   "source": [
    "#read in chosen clean data set and specify which columns to analyze\n",
    "cols_of_interest = ['garage_area', 'total_full_bath', 'years_interact', 'sf_interact', 'overall_qual', 'overall_cond', 'neighborhood', 'privacy_fence']\n",
    "data = pd.read_csv('../data/cleaned_train.csv')\n",
    "X = data[cols_of_interest]\n",
    "y = data['saleprice']\n",
    "\n",
    "X_train, X_val, y_train, y_val = train_test_split(X, y, test_size=.2, random_state=8)\n",
    "\n",
    "\n"
   ]
  },
  {
   "cell_type": "markdown",
   "id": "5091d281-efd8-4a8e-af55-1e2524a72bcf",
   "metadata": {},
   "source": [
    "### Null Model"
   ]
  },
  {
   "cell_type": "markdown",
   "id": "6d86cc49-b586-4775-affa-a28b2c579a2e",
   "metadata": {},
   "source": [
    "Below is our RMSE score and percent variance to beat."
   ]
  },
  {
   "cell_type": "code",
   "execution_count": 83,
   "id": "f6732e23-755f-4c2d-8baf-0c1eb17cb46b",
   "metadata": {},
   "outputs": [
    {
     "name": "stdout",
     "output_type": "stream",
     "text": [
      "Null Training RMSE: 78777.3\n",
      "Null Validation RMSE: 81200.02\n",
      "Null RMSE Variance: 3.08%\n"
     ]
    }
   ],
   "source": [
    "null_pred = y_train.mean()\n",
    "null_train_rmse = mean_squared_error(y_train, np.full_like(y_train, null_pred), squared=False)\n",
    "null_val_rmse = mean_squared_error(y_val, np.full_like(y_val, null_pred), squared=False)\n",
    "print(f\"Null Training RMSE: {round(null_train_rmse, 2)}\")\n",
    "print(f\"Null Validation RMSE: {round(null_val_rmse, 2)}\")\n",
    "print(f\"Null RMSE Variance: {round(((null_val_rmse - null_train_rmse)/null_train_rmse) * 100, 2)}%\")"
   ]
  },
  {
   "cell_type": "markdown",
   "id": "7a53ad78-9340-4850-881f-542a894b0ee6",
   "metadata": {
    "tags": []
   },
   "source": [
    "### Iterative Modeling"
   ]
  },
  {
   "cell_type": "markdown",
   "id": "a688f014-2026-4c85-809d-ac30d00af960",
   "metadata": {},
   "source": [
    "#### Helper Functions"
   ]
  },
  {
   "cell_type": "code",
   "execution_count": 84,
   "id": "2c1f2c37-5c82-451f-b52c-23f9a1b0a8d7",
   "metadata": {},
   "outputs": [],
   "source": [
    "#could also use make_scorer\n",
    "def rmse(estimator, X, y):\n",
    "    '''\n",
    "    Converts SkLearn's mean_squared_error function into one useable by cross_val_score\n",
    "    Returns the Root Mean Squared Error of the given estimator's predictions on X, compared to y\n",
    "    '''\n",
    "    return mean_squared_error(y, estimator.predict(X), squared=False)"
   ]
  },
  {
   "cell_type": "code",
   "execution_count": 85,
   "id": "a8c45a40-1688-4a2e-b8b5-14717ceb797b",
   "metadata": {},
   "outputs": [],
   "source": [
    "def print_rmse(model, y_train, y_train_pred, y_val, y_val_pred):\n",
    "    '''\n",
    "    Prints the training and validation Root Mean Squared Error for the given estimator with the given predictions\n",
    "    Returns the Training RMSE, Validation RMSE, and Percent Variance between the two\n",
    "    '''\n",
    "    train_rmse = mean_squared_error(y_train, y_train_pred, squared=False)\n",
    "    val_rmse = mean_squared_error(y_val, y_val_pred, squared=False)\n",
    "    print(f\"{model} Training RMSE: {round(train_rmse, 2)}\")\n",
    "    print(f\"{model} Validation RMSE: {round(val_rmse, 2)}\")\n",
    "    return train_rmse, val_rmse, ((val_rmse - train_rmse)/train_rmse) * 100"
   ]
  },
  {
   "cell_type": "markdown",
   "id": "3588146e-0841-4db5-ac96-cab7b9ca879c",
   "metadata": {},
   "source": [
    "#### Linear Regression"
   ]
  },
  {
   "cell_type": "code",
   "execution_count": 107,
   "id": "58ab88ec-f42c-43fc-9160-e13189c35306",
   "metadata": {},
   "outputs": [
    {
     "name": "stdout",
     "output_type": "stream",
     "text": [
      "LinearRegression Training RMSE: 26536.17\n",
      "LinearRegression Validation RMSE: 25948.94\n"
     ]
    },
    {
     "data": {
      "text/plain": [
       "(26536.174735347915, 25948.93585212506, -2.2129748883534934)"
      ]
     },
     "execution_count": 107,
     "metadata": {},
     "output_type": "execute_result"
    }
   ],
   "source": [
    "#adapted from class code extra-extras\n",
    "\n",
    "ctx = ColumnTransformer(\n",
    "    [('ss', StandardScaler(), X_train._get_numeric_data().columns),\n",
    "    ('ohe', OneHotEncoder(handle_unknown = 'ignore'), [x for x in X_train.columns if x not in X_train._get_numeric_data().columns])\n",
    "    ]\n",
    ")\n",
    "\n",
    "lr_pipe = Pipeline([\n",
    "    ('ctx', ctx),\n",
    "    ('lr', TransformedTargetRegressor(LinearRegression(), func=np.log, inverse_func=np.exp))\n",
    "])\n",
    "\n",
    "lr_pipe.fit(X_train, y_train)\n",
    "\n",
    "#predict\n",
    "lr_train_preds = lr_pipe.predict(X_train)\n",
    "lr_val_preds = lr_pipe.predict(X_val)\n",
    "\n",
    "#evaluate\n",
    "print_rmse('LinearRegression', y_train, lr_train_preds, y_val, lr_val_preds)"
   ]
  },
  {
   "cell_type": "code",
   "execution_count": 108,
   "id": "f7b21c31-f064-4bcf-ba78-8f2cf18ca9ab",
   "metadata": {},
   "outputs": [
    {
     "data": {
      "text/plain": [
       "array([28112.0557307 , 27292.24358797, 31499.46388926, 26542.12708154,\n",
       "       24056.12869456])"
      ]
     },
     "execution_count": 108,
     "metadata": {},
     "output_type": "execute_result"
    }
   ],
   "source": [
    "cross_val_score(lr_pipe, X_train, y_train, scoring=rmse)"
   ]
  },
  {
   "cell_type": "code",
   "execution_count": 109,
   "id": "5a5c1921-b6e5-473a-9f17-50ea9bc0480c",
   "metadata": {},
   "outputs": [
    {
     "data": {
      "text/plain": [
       "<matplotlib.collections.PathCollection at 0x129303e20>"
      ]
     },
     "execution_count": 109,
     "metadata": {},
     "output_type": "execute_result"
    },
    {
     "data": {
      "image/png": "[encoded data removed]",
      "text/plain": [
       "<Figure size 432x288 with 1 Axes>"
      ]
     },
     "metadata": {
      "needs_background": "light"
     },
     "output_type": "display_data"
    }
   ],
   "source": [
    "plt.scatter(lr_train_preds, y_train - lr_train_preds)"
   ]
  },
  {
   "cell_type": "code",
   "execution_count": 89,
   "id": "d867c03d-4e4c-41b4-9693-084be72f93b5",
   "metadata": {},
   "outputs": [
    {
     "data": {
      "text/plain": [
       "Index(['garage_area', 'total_full_bath', 'years_interact', 'sf_interact',\n",
       "       'overall_qual', 'overall_cond', 'privacy_fence'],\n",
       "      dtype='object')"
      ]
     },
     "execution_count": 89,
     "metadata": {},
     "output_type": "execute_result"
    }
   ],
   "source": [
    "X_train._get_numeric_data().columns\n"
   ]
  },
  {
   "cell_type": "markdown",
   "id": "79752677-76d7-443c-ac11-458e6b82cc2b",
   "metadata": {},
   "source": [
    "#### Lasso"
   ]
  },
  {
   "cell_type": "code",
   "execution_count": 111,
   "id": "d84c1af7-1773-4909-9991-6de9176fc59b",
   "metadata": {},
   "outputs": [],
   "source": [
    "#adapted from class code extra-extras\n",
    "ctx = ColumnTransformer(\n",
    "    [('ss', StandardScaler(), X_train._get_numeric_data().columns),\n",
    "    ('ohe', OneHotEncoder(handle_unknown = 'ignore'), [x for x in X_train.columns if x not in X_train._get_numeric_data().columns])\n",
    "    ]\n",
    ")\n",
    "\n",
    "lasso_pipe = Pipeline([\n",
    "    ('ctx', ctx),\n",
    "    ('lasso', TransformedTargetRegressor(Lasso(), func=np.log, inverse_func=np.exp))\n",
    "])\n",
    "\n",
    "lasso_params = {\n",
    "    'ctx__remainder' : ['passthrough'], # keep untransformed columns\n",
    "    'lasso__regressor__alpha' : np.linspace(.0001, 10, 100),\n",
    "    'lasso__regressor__max_iter' : [10000]\n",
    "}"
   ]
  },
  {
   "cell_type": "code",
   "execution_count": 112,
   "id": "10d087c0-d62c-429a-9e36-154a694b2595",
   "metadata": {
    "tags": []
   },
   "outputs": [],
   "source": [
    "lasso_gs = GridSearchCV(lasso_pipe, \n",
    "                        lasso_params, \n",
    "                        scoring='neg_root_mean_squared_error').fit(X_train, y_train)\n"
   ]
  },
  {
   "cell_type": "code",
   "execution_count": 113,
   "id": "6180b5d9-848f-4044-8e8b-8c5120c323ed",
   "metadata": {},
   "outputs": [
    {
     "data": {
      "text/plain": [
       "(-27483.637207363423,\n",
       " {'ctx__remainder': 'passthrough',\n",
       "  'lasso__regressor__alpha': 0.0001,\n",
       "  'lasso__regressor__max_iter': 10000})"
      ]
     },
     "execution_count": 113,
     "metadata": {},
     "output_type": "execute_result"
    }
   ],
   "source": [
    "lasso_gs.best_score_, lasso_gs.best_params_,\n",
    "\n"
   ]
  },
  {
   "cell_type": "code",
   "execution_count": null,
   "id": "f898391d-ebb4-42b2-b83e-61f5e108237a",
   "metadata": {},
   "outputs": [],
   "source": []
  },
  {
   "cell_type": "code",
   "execution_count": 114,
   "id": "9ea19878-1e47-4734-9b69-f97e405773fe",
   "metadata": {},
   "outputs": [
    {
     "data": {
      "text/plain": [
       "array([ 0.05388424,  0.04479556,  0.06987336,  0.13031202,  0.13791082,\n",
       "        0.05538625,  0.        , -0.00777264, -0.11122053, -0.20178349,\n",
       "       -0.02684706,  0.14732864,  0.00302972,  0.12449398, -0.04537453,\n",
       "        0.05393994, -0.        ,  0.31745499, -0.13326476, -0.        ,\n",
       "       -0.17639084,  0.00041314,  0.0126782 , -0.11577585, -0.01173916,\n",
       "        0.0724211 ,  0.04648282, -0.09332491, -0.01029554, -0.00859365,\n",
       "        0.00314589,  0.        ,  0.07340051,  0.04171127,  0.03194472])"
      ]
     },
     "execution_count": 114,
     "metadata": {},
     "output_type": "execute_result"
    }
   ],
   "source": [
    "lasso_gs.best_estimator_.named_steps.lasso.regressor_.coef_"
   ]
  },
  {
   "cell_type": "code",
   "execution_count": null,
   "id": "3942ca7a-26c3-42b9-b31c-c934b6ac18cb",
   "metadata": {},
   "outputs": [],
   "source": [
    "#cross_val_score(lasso_gs, X_train, y_train, scoring=rmse)"
   ]
  },
  {
   "cell_type": "markdown",
   "id": "2b5f1773-a7ad-4431-aeea-fdaf63acece6",
   "metadata": {},
   "source": [
    "#### Ridge"
   ]
  },
  {
   "cell_type": "code",
   "execution_count": 97,
   "id": "ca8e8928-a079-46a0-9f99-4f26e3782c9a",
   "metadata": {},
   "outputs": [],
   "source": [
    "#adapted from class code extra-extras\n",
    "\n",
    "ctx = ColumnTransformer(\n",
    "    [('ss', StandardScaler(), X_train._get_numeric_data().columns),\n",
    "    ('ohe', OneHotEncoder(handle_unknown = 'ignore'), [x for x in X_train.columns if x not in X_train._get_numeric_data().columns])\n",
    "    ]\n",
    ")\n",
    "\n",
    "ridge_pipe = Pipeline([\n",
    "    ('ctx', ctx),\n",
    "    ('ridge', TransformedTargetRegressor(regressor=Ridge(), func=np.log, inverse_func=np.exp))\n",
    "])\n",
    "\n",
    "ridge_params = {\n",
    "    'ctx__remainder' : ['passthrough'], # keep untransformed columns\n",
    "    'ridge__regressor__alpha' : np.linspace(1, 1000, num=50)\n",
    "}"
   ]
  },
  {
   "cell_type": "code",
   "execution_count": 98,
   "id": "771a8d08-ecd7-45ba-b877-02112d4372a1",
   "metadata": {},
   "outputs": [],
   "source": [
    "ridge_gs = GridSearchCV(ridge_pipe, ridge_params, scoring='neg_root_mean_squared_error').fit(X_train, y_train)"
   ]
  },
  {
   "cell_type": "code",
   "execution_count": 99,
   "id": "327cc669-f4c1-4805-919d-9198c19de3cd",
   "metadata": {},
   "outputs": [
    {
     "data": {
      "text/plain": [
       "(-27464.026375901478,\n",
       " {'ctx__remainder': 'passthrough', 'ridge__regressor__alpha': 1.0})"
      ]
     },
     "execution_count": 99,
     "metadata": {},
     "output_type": "execute_result"
    }
   ],
   "source": [
    "ridge_gs.best_score_, ridge_gs.best_params_"
   ]
  },
  {
   "cell_type": "code",
   "execution_count": null,
   "id": "f220e2e7-088f-42ad-87d9-2b33e1c1af5b",
   "metadata": {},
   "outputs": [],
   "source": [
    "#cross_val_score(ridge_gs, X_train, y_train, scoring=rmse)"
   ]
  },
  {
   "cell_type": "code",
   "execution_count": null,
   "id": "20575077-db91-48e7-910e-2a321e8981fb",
   "metadata": {},
   "outputs": [],
   "source": []
  }
 ],
 "metadata": {
  "kernelspec": {
   "display_name": "Python [conda env:dsi]",
   "language": "python",
   "name": "conda-env-dsi-py"
  },
  "language_info": {
   "codemirror_mode": {
    "name": "ipython",
    "version": 3
   },
   "file_extension": ".py",
   "mimetype": "text/x-python",
   "name": "python",
   "nbconvert_exporter": "python",
   "pygments_lexer": "ipython3",
   "version": "3.9.7"
  }
 },
 "nbformat": 4,
 "nbformat_minor": 5
}
