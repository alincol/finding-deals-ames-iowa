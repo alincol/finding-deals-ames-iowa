{
 "cells": [
  {
   "cell_type": "markdown",
   "id": "b1fb60d8-ce3d-462d-94b4-77fcea16d4f9",
   "metadata": {},
   "source": [
    "## Models, Models, Models!"
   ]
  },
  {
   "cell_type": "code",
   "execution_count": 7,
   "id": "b844f8b7-a71f-4560-b8f5-e54d1bf23436",
   "metadata": {},
   "outputs": [],
   "source": [
    "import pandas as pd\n",
    "import numpy as np\n",
    "import seaborn as sns\n",
    "import matplotlib.pyplot as plt\n",
    "\n",
    "from sklearn.linear_model import LinearRegression, Lasso, Ridge\n",
    "from sklearn.compose import ColumnTransformer\n",
    "from sklearn.preprocessing import StandardScaler, OneHotEncoder, PolynomialFeatures\n",
    "from sklearn.model_selection import train_test_split, cross_val_score, GridSearchCV\n",
    "from sklearn.metrics import mean_squared_error\n",
    "from sklearn.pipeline import Pipeline\n",
    "from sklearn.compose import TransformedTargetRegressor\n",
    "\n",
    "#from extra extras\n",
    "import sys\n",
    "\n",
    "if not sys.warnoptions:\n",
    "    import warnings\n",
    "    warnings.simplefilter(\"ignore\")"
   ]
  },
  {
   "cell_type": "code",
   "execution_count": 8,
   "id": "9c451709-fbed-48d6-b386-73fad9b44967",
   "metadata": {},
   "outputs": [],
   "source": [
    "results = {}"
   ]
  },
  {
   "cell_type": "markdown",
   "id": "6a2808d3-79b5-4f61-9851-7003379edf68",
   "metadata": {},
   "source": [
    "### Train/Validation Split"
   ]
  },
  {
   "cell_type": "code",
   "execution_count": 11,
   "id": "75f66759",
   "metadata": {},
   "outputs": [
    {
     "data": {
      "text/plain": [
       "Index(['id', 'pid', 'ms_subclass', 'ms_zoning', 'lot_frontage', 'lot_area',\n",
       "       'street', 'alley', 'lot_shape', 'land_contour', 'utilities',\n",
       "       'lot_config', 'land_slope', 'neighborhood', 'condition_1',\n",
       "       'condition_2', 'bldg_type', 'house_style', 'overall_qual',\n",
       "       'overall_cond', 'year_built', 'year_remod/add', 'roof_style',\n",
       "       'roof_matl', 'exterior_1st', 'exterior_2nd', 'mas_vnr_type',\n",
       "       'mas_vnr_area', 'exter_qual', 'exter_cond', 'foundation', 'bsmt_qual',\n",
       "       'bsmt_cond', 'bsmt_exposure', 'bsmtfin_type_1', 'bsmtfin_sf_1',\n",
       "       'bsmtfin_type_2', 'bsmtfin_sf_2', 'bsmt_unf_sf', 'total_bsmt_sf',\n",
       "       'heating', 'heating_qc', 'central_air', 'electrical', '1st_flr_sf',\n",
       "       '2nd_flr_sf', 'low_qual_fin_sf', 'gr_liv_area', 'bsmt_full_bath',\n",
       "       'bsmt_half_bath', 'full_bath', 'half_bath', 'bedroom_abvgr',\n",
       "       'kitchen_abvgr', 'kitchen_qual', 'totrms_abvgrd', 'functional',\n",
       "       'fireplaces', 'fireplace_qu', 'garage_type', 'garage_yr_blt',\n",
       "       'garage_finish', 'garage_cars', 'garage_area', 'garage_qual',\n",
       "       'garage_cond', 'paved_drive', 'wood_deck_sf', 'open_porch_sf',\n",
       "       'enclosed_porch', '3ssn_porch', 'screen_porch', 'pool_area', 'pool_qc',\n",
       "       'fence', 'misc_feature', 'misc_val', 'mo_sold', 'yr_sold', 'sale_type',\n",
       "       'saleprice', 'total_overall_sf', 'garage_interact', 'years_interact',\n",
       "       'exter_qual_ord', 'bsmt_qual_ord', 'kitchen_qual_ord'],\n",
       "      dtype='object')"
      ]
     },
     "execution_count": 11,
     "metadata": {},
     "output_type": "execute_result"
    }
   ],
   "source": [
    "#read in chosen clean data set and specify which columns to analyze\n",
    "data = pd.read_csv('../data/cleaned_train.csv')\n",
    "data.columns"
   ]
  },
  {
   "cell_type": "code",
   "execution_count": 13,
   "id": "fad7c5ac",
   "metadata": {},
   "outputs": [],
   "source": [
    "v1_cols = ['garage_area', \n",
    "                 'total_bsmt_sf', \n",
    "                 'bsmt_full_bath', \n",
    "                 'full_bath', \n",
    "                 'bsmt_half_bath', \n",
    "                 'half_bath','overall_qual', \n",
    "                 'gr_liv_area', \n",
    "                 'year_built', \n",
    "                 'year_remod/add'\n",
    "]\n",
    "\n",
    "first_engineer_cols = ['overall_qual', \n",
    "                    'total_overall_sf', \n",
    "                    'garage_interact',\n",
    "                    'years_interact',\n",
    "                    'exter_qual_ord',\n",
    "                    'bsmt_qual_ord',\n",
    "                    'kitchen_qual_ord',\n",
    "                    'lot_config', \n",
    "                    'neighborhood'\n",
    "]\n",
    "\n",
    "cols_of_interest = v1_cols"
   ]
  },
  {
   "cell_type": "code",
   "execution_count": 14,
   "id": "c67736b3-aca7-43de-a267-a435c5299ffc",
   "metadata": {},
   "outputs": [],
   "source": [
    "X = data[cols_of_interest]\n",
    "y = data['saleprice']\n",
    "\n",
    "X_train, X_val, y_train, y_val = train_test_split(X, y, test_size=.2, random_state=8)"
   ]
  },
  {
   "cell_type": "markdown",
   "id": "5091d281-efd8-4a8e-af55-1e2524a72bcf",
   "metadata": {},
   "source": [
    "### Null Model"
   ]
  },
  {
   "cell_type": "markdown",
   "id": "6d86cc49-b586-4775-affa-a28b2c579a2e",
   "metadata": {},
   "source": [
    "Below is our RMSE score and percent variance to beat."
   ]
  },
  {
   "cell_type": "code",
   "execution_count": 15,
   "id": "f6732e23-755f-4c2d-8baf-0c1eb17cb46b",
   "metadata": {},
   "outputs": [
    {
     "name": "stdout",
     "output_type": "stream",
     "text": [
      "Null Training RMSE: 75366.81\n",
      "Null Validation RMSE: 75576.08\n",
      "Null RMSE Variance: 0.28%\n"
     ]
    }
   ],
   "source": [
    "null_pred = y_train.mean()\n",
    "null_train_rmse = mean_squared_error(y_train, np.full_like(y_train, null_pred), squared=False)\n",
    "null_val_rmse = mean_squared_error(y_val, np.full_like(y_val, null_pred), squared=False)\n",
    "print(f\"Null Training RMSE: {round(null_train_rmse, 2)}\")\n",
    "print(f\"Null Validation RMSE: {round(null_val_rmse, 2)}\")\n",
    "print(f\"Null RMSE Variance: {round(((null_val_rmse - null_train_rmse)/null_train_rmse) * 100, 2)}%\")"
   ]
  },
  {
   "cell_type": "markdown",
   "id": "7a53ad78-9340-4850-881f-542a894b0ee6",
   "metadata": {
    "tags": []
   },
   "source": [
    "### Iterative Modeling"
   ]
  },
  {
   "cell_type": "markdown",
   "id": "a688f014-2026-4c85-809d-ac30d00af960",
   "metadata": {},
   "source": [
    "#### Helper Functions"
   ]
  },
  {
   "cell_type": "code",
   "execution_count": 16,
   "id": "2c1f2c37-5c82-451f-b52c-23f9a1b0a8d7",
   "metadata": {},
   "outputs": [],
   "source": [
    "#could also use make_scorer\n",
    "def rmse(estimator, X, y):\n",
    "    '''\n",
    "    Converts SkLearn's mean_squared_error function into one useable by cross_val_score\n",
    "    Returns the Root Mean Squared Error of the given estimator's predictions on X, compared to y\n",
    "    '''\n",
    "    return mean_squared_error(y, estimator.predict(X), squared=False)"
   ]
  },
  {
   "cell_type": "code",
   "execution_count": 65,
   "id": "a8c45a40-1688-4a2e-b8b5-14717ceb797b",
   "metadata": {},
   "outputs": [],
   "source": [
    "def print_rmse(model, y_train, y_train_pred, y_val, y_val_pred):\n",
    "    '''\n",
    "    Prints the training and validation Root Mean Squared Error for the given estimator with the given predictions\n",
    "    Returns the Training RMSE, Validation RMSE, and Percent Variance between the two\n",
    "    '''\n",
    "    model_name = model.named_steps.model.regressor_\n",
    "    train_rmse = mean_squared_error(y_train, y_train_pred, squared=False)\n",
    "    val_rmse = mean_squared_error(y_val, y_val_pred, squared=False)\n",
    "    percent_variance = ((val_rmse - train_rmse)/train_rmse) * 100\n",
    "    \n",
    "    print(f\"{model} Training RMSE: {round(train_rmse, 2)}\")\n",
    "    print(f\"{model} Validation RMSE: {round(val_rmse, 2)}\")\n",
    "    print(f\"{model} RMSE Percent Variance: {round(percent_variance, 2)}\")\n",
    "    return [model, train_rmse, val_rmse, percent_variance]"
   ]
  },
  {
   "cell_type": "markdown",
   "id": "3588146e-0841-4db5-ac96-cab7b9ca879c",
   "metadata": {},
   "source": [
    "#### Linear Regression"
   ]
  },
  {
   "cell_type": "code",
   "execution_count": 32,
   "id": "58ab88ec-f42c-43fc-9160-e13189c35306",
   "metadata": {},
   "outputs": [
    {
     "name": "stdout",
     "output_type": "stream",
     "text": [
      "LinearRegression() Training RMSE: 24451.42\n",
      "LinearRegression() Validation RMSE: 25784.37\n",
      "LinearRegression() RMSE Percent Variance: 5.45\n"
     ]
    }
   ],
   "source": [
    "#adapted from class code extra-extras\n",
    "\n",
    "ctx = ColumnTransformer(\n",
    "    [('ss', StandardScaler(), X_train._get_numeric_data().columns),\n",
    "    ('ohe', OneHotEncoder(handle_unknown = 'ignore'), [x for x in X_train.columns if x not in X_train._get_numeric_data().columns])\n",
    "    ]\n",
    ")\n",
    "\n",
    "lr_pipe = Pipeline([\n",
    "    ('ctx', ctx),\n",
    "    ('model', TransformedTargetRegressor(LinearRegression(), func=np.log, inverse_func=np.exp))\n",
    "])\n",
    "\n",
    "lr_pipe.fit(X_train, y_train)\n",
    "\n",
    "#predict\n",
    "lr_train_preds = lr_pipe.predict(X_train)\n",
    "lr_val_preds = lr_pipe.predict(X_val)\n",
    "\n",
    "#evaluate\n",
    "results[str(cols_of_interest)] = [print_rmse(lr_pipe, y_train, lr_train_preds, y_val, lr_val_preds)]\n"
   ]
  },
  {
   "cell_type": "code",
   "execution_count": 35,
   "id": "f7b21c31-f064-4bcf-ba78-8f2cf18ca9ab",
   "metadata": {},
   "outputs": [
    {
     "data": {
      "text/plain": [
       "array([28250.4253945 , 23599.14243977, 22540.53786407, 25840.16036112,\n",
       "       23685.53350049])"
      ]
     },
     "execution_count": 35,
     "metadata": {},
     "output_type": "execute_result"
    }
   ],
   "source": [
    "#check the train test split\n",
    "cross_val_score(lr_pipe, X_train, y_train, scoring=rmse)"
   ]
  },
  {
   "cell_type": "code",
   "execution_count": 34,
   "id": "328aedef",
   "metadata": {},
   "outputs": [
    {
     "data": {
      "text/plain": [
       "array([554.28526129, 489.85522153, 516.16228758, ..., 609.44852688,\n",
       "       453.84757553, 496.72102006])"
      ]
     },
     "execution_count": 34,
     "metadata": {},
     "output_type": "execute_result"
    }
   ],
   "source": [
    "results[str(cols_of_interest)][0][0].predict(X_train)"
   ]
  },
  {
   "cell_type": "code",
   "execution_count": 109,
   "id": "5a5c1921-b6e5-473a-9f17-50ea9bc0480c",
   "metadata": {},
   "outputs": [
    {
     "data": {
      "text/plain": [
       "<matplotlib.collections.PathCollection at 0x129303e20>"
      ]
     },
     "execution_count": 109,
     "metadata": {},
     "output_type": "execute_result"
    },
    {
     "data": {
      "image/png": "[encoded data removed]",
      "text/plain": [
       "<Figure size 432x288 with 1 Axes>"
      ]
     },
     "metadata": {
      "needs_background": "light"
     },
     "output_type": "display_data"
    }
   ],
   "source": [
    "#check for LINE assumptions\n",
    "plt.scatter(lr_train_preds, y_train - lr_train_preds)"
   ]
  },
  {
   "cell_type": "markdown",
   "id": "79752677-76d7-443c-ac11-458e6b82cc2b",
   "metadata": {},
   "source": [
    "#### Lasso"
   ]
  },
  {
   "cell_type": "code",
   "execution_count": 58,
   "id": "d84c1af7-1773-4909-9991-6de9176fc59b",
   "metadata": {},
   "outputs": [],
   "source": [
    "#adapted from class code extra-extras\n",
    "ctx = ColumnTransformer(\n",
    "    [('ss', StandardScaler(), X_train._get_numeric_data().columns),\n",
    "    ('ohe', OneHotEncoder(handle_unknown = 'ignore'), [x for x in X_train.columns if x not in X_train._get_numeric_data().columns])\n",
    "])\n",
    "\n",
    "lasso_pipe = Pipeline([\n",
    "    ('ctx', ctx),\n",
    "    ('model', TransformedTargetRegressor(Lasso(), func=np.log, inverse_func=np.exp))\n",
    "])\n",
    "\n",
    "lasso_params = {\n",
    "    'ctx__remainder' : ['passthrough'], # keep untransformed columns\n",
    "    'model__regressor__alpha' : np.linspace(.001, 10, 100),\n",
    "    'model__regressor__max_iter' : [10000]\n",
    "}"
   ]
  },
  {
   "cell_type": "code",
   "execution_count": 59,
   "id": "10d087c0-d62c-429a-9e36-154a694b2595",
   "metadata": {
    "tags": []
   },
   "outputs": [],
   "source": [
    "lasso_gs = GridSearchCV(lasso_pipe, \n",
    "                        lasso_params, \n",
    "                        scoring='neg_root_mean_squared_error').fit(X_train, y_train)\n"
   ]
  },
  {
   "cell_type": "code",
   "execution_count": 60,
   "id": "6180b5d9-848f-4044-8e8b-8c5120c323ed",
   "metadata": {},
   "outputs": [
    {
     "name": "stdout",
     "output_type": "stream",
     "text": [
      "Lasso(alpha=0.001, max_iter=10000) Training RMSE: 24474.92\n",
      "Lasso(alpha=0.001, max_iter=10000) Validation RMSE: 25811.98\n",
      "Lasso(alpha=0.001, max_iter=10000) RMSE Percent Variance: 5.46\n"
     ]
    }
   ],
   "source": [
    "lasso_train_preds = lasso_gs.predict(X_train)\n",
    "lasso_val_preds = lasso_gs.predict(X_val)\n",
    "results[str(cols_of_interest)].append(print_rmse(lasso_gs.best_estimator_,\n",
    "                                                y_train,\n",
    "                                                lasso_train_preds,\n",
    "                                                y_val,\n",
    "                                                lasso_val_preds))\n"
   ]
  },
  {
   "cell_type": "code",
   "execution_count": 64,
   "id": "ef927f37",
   "metadata": {},
   "outputs": [
    {
     "data": {
      "text/plain": [
       "array([ True,  True,  True,  True,  True,  True,  True,  True,  True,\n",
       "        True,  True,  True,  True,  True,  True,  True,  True,  True,\n",
       "        True,  True,  True,  True,  True,  True,  True,  True,  True,\n",
       "        True,  True,  True,  True,  True,  True,  True,  True,  True,\n",
       "        True,  True,  True,  True,  True,  True,  True,  True,  True,\n",
       "        True,  True,  True,  True,  True,  True,  True,  True,  True,\n",
       "        True,  True,  True,  True,  True,  True,  True,  True,  True,\n",
       "        True,  True,  True,  True,  True,  True,  True,  True,  True,\n",
       "        True,  True,  True,  True,  True,  True,  True,  True,  True,\n",
       "        True,  True,  True,  True,  True,  True,  True,  True,  True,\n",
       "        True,  True,  True,  True,  True,  True,  True,  True,  True,\n",
       "        True,  True,  True,  True,  True,  True,  True,  True,  True,\n",
       "        True,  True,  True,  True,  True,  True,  True,  True,  True,\n",
       "        True,  True,  True,  True,  True,  True,  True,  True,  True,\n",
       "        True,  True,  True,  True,  True,  True,  True,  True,  True,\n",
       "        True,  True,  True,  True,  True,  True,  True,  True,  True,\n",
       "        True,  True,  True,  True,  True,  True,  True,  True,  True,\n",
       "        True,  True,  True,  True,  True,  True,  True,  True,  True,\n",
       "        True,  True,  True,  True,  True,  True,  True,  True,  True,\n",
       "        True,  True,  True,  True,  True,  True,  True,  True,  True,\n",
       "        True,  True,  True,  True,  True,  True,  True,  True,  True,\n",
       "        True,  True,  True,  True,  True,  True,  True,  True,  True,\n",
       "        True,  True,  True,  True,  True,  True,  True,  True,  True,\n",
       "        True,  True,  True,  True,  True,  True,  True,  True,  True,\n",
       "        True,  True,  True,  True,  True,  True,  True,  True,  True,\n",
       "        True,  True,  True,  True,  True,  True,  True,  True,  True,\n",
       "        True,  True,  True,  True,  True,  True,  True,  True,  True,\n",
       "        True,  True,  True,  True,  True,  True,  True,  True,  True,\n",
       "        True,  True,  True,  True,  True,  True,  True,  True,  True,\n",
       "        True,  True,  True,  True,  True,  True,  True,  True,  True,\n",
       "        True,  True,  True,  True,  True,  True,  True,  True,  True,\n",
       "        True,  True,  True,  True,  True,  True,  True,  True,  True,\n",
       "        True,  True,  True,  True,  True,  True,  True,  True,  True,\n",
       "        True,  True,  True,  True,  True,  True,  True,  True,  True,\n",
       "        True,  True,  True,  True,  True,  True,  True,  True,  True,\n",
       "        True,  True,  True,  True,  True,  True,  True,  True,  True,\n",
       "        True,  True,  True,  True,  True,  True,  True,  True,  True,\n",
       "        True,  True,  True,  True,  True,  True,  True,  True,  True,\n",
       "        True,  True,  True,  True,  True,  True,  True,  True,  True,\n",
       "        True,  True,  True,  True,  True,  True,  True,  True,  True,\n",
       "        True,  True,  True,  True,  True,  True,  True,  True,  True,\n",
       "        True,  True,  True,  True,  True,  True,  True,  True,  True,\n",
       "        True,  True,  True,  True,  True,  True,  True,  True,  True,\n",
       "        True,  True,  True,  True,  True,  True,  True,  True,  True,\n",
       "        True,  True,  True,  True,  True,  True,  True,  True,  True,\n",
       "        True])"
      ]
     },
     "execution_count": 64,
     "metadata": {},
     "output_type": "execute_result"
    }
   ],
   "source": [
    "lasso_gs.best_estimator_.predict(X_val) == lasso_gs.predict(X_val)"
   ]
  },
  {
   "cell_type": "markdown",
   "id": "2b5f1773-a7ad-4431-aeea-fdaf63acece6",
   "metadata": {},
   "source": [
    "#### Ridge"
   ]
  },
  {
   "cell_type": "code",
   "execution_count": 61,
   "id": "ca8e8928-a079-46a0-9f99-4f26e3782c9a",
   "metadata": {},
   "outputs": [],
   "source": [
    "#adapted from class code extra-extras\n",
    "\n",
    "ctx = ColumnTransformer(\n",
    "    [('ss', StandardScaler(), X_train._get_numeric_data().columns),\n",
    "    ('ohe', OneHotEncoder(handle_unknown = 'ignore'), [x for x in X_train.columns if x not in X_train._get_numeric_data().columns])\n",
    "    ]\n",
    ")\n",
    "\n",
    "ridge_pipe = Pipeline([\n",
    "    ('ctx', ctx),\n",
    "    ('model', TransformedTargetRegressor(regressor=Ridge(), func=np.log, inverse_func=np.exp))\n",
    "])\n",
    "\n",
    "ridge_params = {\n",
    "    'ctx__remainder' : ['passthrough'], # keep untransformed columns\n",
    "    'model__regressor__alpha' : np.linspace(1, 1000, num=100)\n",
    "}"
   ]
  },
  {
   "cell_type": "code",
   "execution_count": 62,
   "id": "771a8d08-ecd7-45ba-b877-02112d4372a1",
   "metadata": {},
   "outputs": [],
   "source": [
    "ridge_gs = GridSearchCV(ridge_pipe, ridge_params, scoring='neg_root_mean_squared_error').fit(X_train, y_train)\n"
   ]
  },
  {
   "cell_type": "code",
   "execution_count": 63,
   "id": "06fd81d9",
   "metadata": {},
   "outputs": [
    {
     "name": "stdout",
     "output_type": "stream",
     "text": [
      "Ridge() Training RMSE: 24452.02\n",
      "Ridge() Validation RMSE: 25784.88\n",
      "Ridge() RMSE Percent Variance: 5.45\n"
     ]
    }
   ],
   "source": [
    "ridge_train_preds = ridge_gs.predict(X_train)\n",
    "ridge_val_preds = ridge_gs.predict(X_val)\n",
    "results[str(cols_of_interest)].append(print_rmse(ridge_gs.best_estimator_,\n",
    "                                                y_train,\n",
    "                                                ridge_train_preds,\n",
    "                                                y_val,\n",
    "                                                ridge_val_preds))"
   ]
  },
  {
   "cell_type": "code",
   "execution_count": null,
   "id": "f220e2e7-088f-42ad-87d9-2b33e1c1af5b",
   "metadata": {},
   "outputs": [],
   "source": [
    "#cross_val_score(ridge_gs, X_train, y_train, scoring=rmse)"
   ]
  },
  {
   "cell_type": "code",
   "execution_count": null,
   "id": "020e95b1",
   "metadata": {},
   "outputs": [],
   "source": []
  },
  {
   "cell_type": "markdown",
   "id": "7682fb52",
   "metadata": {},
   "source": [
    "### Kaggle Submission"
   ]
  },
  {
   "cell_type": "code",
   "execution_count": 74,
   "id": "a63e0bc2",
   "metadata": {},
   "outputs": [
    {
     "data": {
      "text/plain": [
       "{\"['garage_area', 'total_bsmt_sf', 'bsmt_full_bath', 'full_bath', 'bsmt_half_bath', 'half_bath', 'overall_qual', 'gr_liv_area', 'year_built', 'year_remod/add']\": [[LinearRegression(),\n",
       "   24451.420803824098,\n",
       "   25784.36701176228,\n",
       "   5.451405947460174],\n",
       "  [Ridge(), 24452.020312938705, 25784.884320464756, 5.450936120892928],\n",
       "  [Ridge(), 24452.020312938705, 25784.884320464756, 5.450936120892928],\n",
       "  [Lasso(alpha=0.0001, max_iter=10000),\n",
       "   24452.22703578358,\n",
       "   25785.733678813885,\n",
       "   5.4535181645370825],\n",
       "  [Lasso(alpha=0.001, max_iter=10000),\n",
       "   24474.923390980122,\n",
       "   25811.982887577098,\n",
       "   5.462977249153432]]}"
      ]
     },
     "execution_count": 74,
     "metadata": {},
     "output_type": "execute_result"
    }
   ],
   "source": [
    "results"
   ]
  },
  {
   "cell_type": "code",
   "execution_count": 76,
   "id": "e6db4d19",
   "metadata": {},
   "outputs": [
    {
     "data": {
      "text/plain": [
       "{\"['garage_area', 'total_bsmt_sf', 'bsmt_full_bath', 'full_bath', 'bsmt_half_bath', 'half_bath', 'overall_qual', 'gr_liv_area', 'year_built', 'year_remod/add']\": [[LinearRegression(),\n",
       "   24451.420803824098,\n",
       "   25784.36701176228,\n",
       "   5.451405947460174],\n",
       "  [Ridge(), 24452.020312938705, 25784.884320464756, 5.450936120892928],\n",
       "  [Ridge(), 24452.020312938705, 25784.884320464756, 5.450936120892928],\n",
       "  [Lasso(alpha=0.0001, max_iter=10000),\n",
       "   24452.22703578358,\n",
       "   25785.733678813885,\n",
       "   5.4535181645370825],\n",
       "  [Lasso(alpha=0.001, max_iter=10000),\n",
       "   24474.923390980122,\n",
       "   25811.982887577098,\n",
       "   5.462977249153432]]}"
      ]
     },
     "execution_count": 76,
     "metadata": {},
     "output_type": "execute_result"
    }
   ],
   "source": [
    "test = pd.read_csv(\"../data/cleaned_test.csv\")\n",
    "\n",
    "best_model = None\n",
    "\n",
    "sorted_results = {val.sort(key=lambda x: x[-2]) for val in results.values()}\n",
    "    \n",
    "results"
   ]
  },
  {
   "cell_type": "code",
   "execution_count": 77,
   "id": "54d0eef8",
   "metadata": {},
   "outputs": [
    {
     "data": {
      "text/plain": [
       "{None}"
      ]
     },
     "execution_count": 77,
     "metadata": {},
     "output_type": "execute_result"
    }
   ],
   "source": [
    "sorted_results"
   ]
  },
  {
   "cell_type": "code",
   "execution_count": null,
   "id": "feb13e36",
   "metadata": {},
   "outputs": [],
   "source": []
  }
 ],
 "metadata": {
  "kernelspec": {
   "display_name": "Python [conda env:dsi]",
   "language": "python",
   "name": "conda-env-dsi-py"
  },
  "language_info": {
   "codemirror_mode": {
    "name": "ipython",
    "version": 3
   },
   "file_extension": ".py",
   "mimetype": "text/x-python",
   "name": "python",
   "nbconvert_exporter": "python",
   "pygments_lexer": "ipython3",
   "version": "3.9.7"
  }
 },
 "nbformat": 4,
 "nbformat_minor": 5
}
