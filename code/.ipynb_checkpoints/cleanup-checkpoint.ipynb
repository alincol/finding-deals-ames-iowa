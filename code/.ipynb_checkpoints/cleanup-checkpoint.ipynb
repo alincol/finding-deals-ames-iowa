{
 "cells": [
  {
   "cell_type": "markdown",
   "id": "81cdf5e6-512b-4a99-aeca-ca2f4f5b9ec8",
   "metadata": {},
   "source": [
    "## Iterative Cleaning of the Training and Test Data"
   ]
  },
  {
   "cell_type": "code",
   "execution_count": 209,
   "id": "d6a3a969-b335-41ab-81db-8d5d0c8baea6",
   "metadata": {},
   "outputs": [],
   "source": [
    "#imports\n",
    "import pandas as pd\n",
    "import numpy as np\n",
    "import missingno as msn\n",
    "import seaborn as sns\n",
    "import matplotlib.pyplot as plt\n",
    "\n",
    "from sklearn.model_selection import train_test_split\n",
    "from statsmodels.stats.outliers_influence import variance_inflation_factor"
   ]
  },
  {
   "cell_type": "code",
   "execution_count": 210,
   "id": "4f775f1c-efd5-41b0-b132-a3c13ba3a28a",
   "metadata": {},
   "outputs": [],
   "source": [
    "#load the datasets\n",
    "train = pd.read_csv('../data/train.csv')\n",
    "test = pd.read_csv('../data/test.csv')"
   ]
  },
  {
   "cell_type": "markdown",
   "id": "b46d6c28-a087-4a29-801a-cbecf04e6708",
   "metadata": {},
   "source": [
    "## DataFrame Cleaner\n",
    "Certain functions will need to be done to every DataFrame. This function will help streamline that process."
   ]
  },
  {
   "cell_type": "code",
   "execution_count": 211,
   "id": "8b1fc7d5-7921-46d9-835a-0d93feae4554",
   "metadata": {},
   "outputs": [],
   "source": [
    "def df_cleaner(df):\n",
    "    '''\n",
    "    Returns a cleaned version of the DataFrame passed.\n",
    "    Columns Checked: overall_qual, gr_liv_area, year_built, year_remod/add\n",
    "    Columns Cleaned: garage_area, total_bsmt_sf, bsmt_full_bath, full_bath, bsmt_half_bath, half_bath\n",
    "    '''\n",
    "    #rename columns pythonically\n",
    "    df.columns = [col.lower().replace(' ', '_') for col in df.columns]\n",
    "    \n",
    "    ##numeric columns\n",
    "    #check columns that can't be 0 or null for null values\n",
    "    for col in ['overall_qual', 'gr_liv_area', 'year_built', 'year_remod/add', 'lot_config', 'paved_drive', 'neighborhood', 'lot_frontage', 'exter_qual']:\n",
    "        if df[col].isna().sum():\n",
    "            print(f\"{col.title()} has {df[col].isna().sum()} null values\")\n",
    "        \n",
    "    #check for values outside the appropriate range\n",
    "    if set(df['overall_qual'].unique()) - set(range(1,11)):\n",
    "        print(f\"Overall_qual has outlier {set(df['overall_qual'].unique()) - set(range(1,11))}\")\n",
    "    \n",
    "    #replace potential NaNs in appropriate numeric columns with 0\n",
    "    for col in ['garage_area', 'total_bsmt_sf', 'bsmt_full_bath', 'full_bath', 'bsmt_half_bath', 'half_bath']:\n",
    "        df[col] = df[col].replace(np.nan, 0)\n",
    "\n",
    "    ##categorical columns\n",
    "    #make privacy fence column - GdPrv\n",
    "    df['privacy_fence'] = df['fence'].map(lambda x: 1 if 'GdPrv' else 0)\n",
    "    \n",
    "    #check categoricals for outliers\n",
    "    if set(df['lot_config'].unique()) - {'Inside', 'Corner', 'CulDSac', 'FR2', 'FR3'}:\n",
    "        print(f\"Lot_config has outlier {set(df['lot_config'].unique()) - {'Inside', 'Corner', 'CulDSac', 'FR2', 'FR3'}}\")\n",
    "    \n",
    "    if set(df['paved_drive'].unique()) - {'Y', 'P', 'N'}:\n",
    "        print(f\"Paved_drive has outlier {set(df['paved_drive'].unique()) - {'Y', 'P', 'N'}}\")\n",
    "\n",
    "        \n",
    "    ##ordinal columns\n",
    "    #exter_qual\n",
    "    if set(df['exter_qual'].unique()) - {'Ex', 'Gd', 'TA', 'Fa', 'Po'}:\n",
    "        print(f\"Exter_qual has outlier {set(df['exter_qual'].unique()) - {'Ex', 'Gd', 'TA', 'Fa', 'Po'}}\")\n",
    "    df['exter_qual_ord'] = df['exter_qual'].map({'Ex':5, 'Gd':4, 'TA':3, 'Fa':2, 'Po':1})\n",
    "    \n",
    "    \n",
    "        \n",
    "#bsmt_qual\n",
    "#kitchen_qual\n",
    "    \n",
    "    #Functional?\n",
    "    \n",
    "    #condition?\n",
    "    \n",
    "    #zoning\n",
    "    if set(df['ms_zoning'].unique()) - {'A (agr)', 'C (all)', 'FV', 'I (all)', 'RH', 'RL', 'RP', 'RM'}:\n",
    "        print(f\"MS Zoning has outlier {set(df['ms_zoning'].unique()) - {'A', 'C', 'FV', 'I', 'RH', 'RL', 'RP', 'RM'}}\")\n",
    "    \n",
    "    #neighborhood?\n",
    "    ngbr_difference = set(df['neighborhood'].unique()) - {'Blmngtn', 'Blueste', 'BrDale', 'BrkSide', 'ClearCr', 'CollgCr', 'Crawfor', 'Edwards', 'Gilbert', 'Greens', 'GrnHill', 'IDOTRR', 'Landmrk', 'MeadowV', 'Mitchel', 'NAmes', 'NoRidge', 'NPkVill', 'NridgHt', 'NWAmes', 'OldTown', 'SWISU', 'Sawyer', 'SawyerW', 'Somerst', 'StoneBr', 'Timber', 'Veenker'}\n",
    "    if ngbr_difference:\n",
    "        print(f\"Neighborhood has outlier {ngbr_difference}\")\n",
    "        \n",
    "\n",
    "    ##feature engineering\n",
    "    df['years_interact'] = df['year_built'] * df['year_remod/add']\n",
    "    df['sf_interact'] = df['gr_liv_area'] * df['total_bsmt_sf']\n",
    "    df['total_full_bath'] = df['bsmt_full_bath'] + df['full_bath']\n",
    "    \n",
    "    return df"
   ]
  },
  {
   "cell_type": "markdown",
   "id": "f1999a3d-808b-45c8-9c2e-2d240ad163ab",
   "metadata": {},
   "source": [
    "## Training Specific Cleaning:"
   ]
  },
  {
   "cell_type": "code",
   "execution_count": 218,
   "id": "2ea25a06-81c0-4031-a40d-7e2217638812",
   "metadata": {},
   "outputs": [
    {
     "name": "stdout",
     "output_type": "stream",
     "text": [
      "Lot_Frontage has 330 null values\n",
      "Lot_Frontage has 160 null values\n"
     ]
    }
   ],
   "source": [
    "train = df_cleaner(train)\n",
    "test = df_cleaner(test)"
   ]
  },
  {
   "cell_type": "code",
   "execution_count": 219,
   "id": "e6c1d677-612c-4db8-bb45-bc825fa66ea6",
   "metadata": {},
   "outputs": [],
   "source": [
    "#drop training basement outliers:\n",
    "train = train.drop(train[train['total_bsmt_sf'] > 4000].index)\n",
    "\n",
    "#drop frontage outliers\n",
    "train = train.drop(train[train['lot_frontage'] > 200].index)\n",
    "\n",
    "#drop lot area outliers\n",
    "train = train.drop(train[train['lot_area'] > 100000].index)"
   ]
  },
  {
   "cell_type": "code",
   "execution_count": 220,
   "id": "deb6570c-98b2-40d1-8cd9-144a7b38b9f6",
   "metadata": {},
   "outputs": [],
   "source": [
    "#save cleaned data to new csvs\n",
    "train.to_csv('../data/cleaned_train.csv', index=False)\n",
    "test.to_csv('../data/cleaned_test.csv', index=False)"
   ]
  },
  {
   "cell_type": "markdown",
   "id": "875a58fc-ed1a-4eb4-89dc-35ad96406a6b",
   "metadata": {
    "tags": []
   },
   "source": [
    "## Explore the Data\n",
    "Because there are so many variables here, first I will explore some preliminary variables of interest and then choose some to clean."
   ]
  },
  {
   "cell_type": "code",
   "execution_count": null,
   "id": "f1cb2cb0-043f-41d3-8823-105184d9c1b5",
   "metadata": {},
   "outputs": [],
   "source": [
    "plt.figure(figsize=(5,7))\n",
    "sns.heatmap(train.corr()[['saleprice']].sort_values(by='saleprice', key=abs, ascending=False).head(10), annot=True, vmin=-1, vmax=1)"
   ]
  },
  {
   "cell_type": "code",
   "execution_count": null,
   "id": "8581cece-68f9-4b42-9b96-739007d6c178",
   "metadata": {},
   "outputs": [],
   "source": [
    "train.describe().T"
   ]
  },
  {
   "cell_type": "code",
   "execution_count": null,
   "id": "f8c375c2-28a7-44d4-8d54-8672591d007e",
   "metadata": {},
   "outputs": [],
   "source": [
    "#vif stuff: https://corporatefinanceinstitute.com/resources/knowledge/other/variance-inflation-factor-vif/\n",
    "#adapted from vif helper code written by Devin\n",
    "def vif_df(data):\n",
    "    data = data.dropna()\n",
    "    df = pd.DataFrame(columns=['vif'], index=data.columns)\n",
    "    df['vif'] = [variance_inflation_factor(data.values, i) for i in range(len(data.columns))]\n",
    "    \n",
    "    return df.sort_values(by='vif', ascending=False)"
   ]
  },
  {
   "cell_type": "code",
   "execution_count": null,
   "id": "78e98879-ff63-4173-8f23-4fdf4e738398",
   "metadata": {},
   "outputs": [],
   "source": [
    "vif_1 = vif_df(train._get_numeric_data())\n",
    "vif_1"
   ]
  },
  {
   "cell_type": "code",
   "execution_count": null,
   "id": "ec9da31b-dd62-4e88-a9a5-0e1cc45e553c",
   "metadata": {},
   "outputs": [],
   "source": [
    "vif_2 = vif_df(train._get_numeric_data().drop(columns=[x for x in vif_1.index if vif_1.loc[x, 'vif'] > 50000]))\n",
    "vif_2"
   ]
  },
  {
   "cell_type": "code",
   "execution_count": null,
   "id": "1de3bff1-aebd-49bb-b031-61911f142780",
   "metadata": {},
   "outputs": [],
   "source": [
    "vif_df(train[vif_2.index].drop(columns=['year_built', 'year_remod/add', 'id']))"
   ]
  },
  {
   "cell_type": "code",
   "execution_count": null,
   "id": "9ec4aafd-d623-4e38-a70d-f35dc6bee50b",
   "metadata": {},
   "outputs": [],
   "source": [
    "variance_inflation_factor(train[['gr_liv_area', 'total_bsmt_sf']].values, 1)"
   ]
  },
  {
   "cell_type": "code",
   "execution_count": null,
   "id": "f29a682e-734e-49ab-a9f7-17acd89bde45",
   "metadata": {},
   "outputs": [],
   "source": [
    "plt.scatter(train['gr_liv_area'], train['total_bsmt_sf'])"
   ]
  },
  {
   "cell_type": "code",
   "execution_count": null,
   "id": "7fb6611f-5b51-4a7a-9b61-5f31432ad62c",
   "metadata": {
    "tags": []
   },
   "outputs": [],
   "source": [
    "plt.scatter(train['gr_liv_area'] * train['total_bsmt_sf'], np.log(train['saleprice']))"
   ]
  },
  {
   "cell_type": "code",
   "execution_count": null,
   "id": "f1f3c442-649e-428d-b78f-cedba6c67c13",
   "metadata": {},
   "outputs": [],
   "source": [
    "plt.scatter(train['gr_liv_area'] * train['total_bsmt_sf'], train['gr_liv_area'])"
   ]
  },
  {
   "cell_type": "code",
   "execution_count": 213,
   "id": "eb7877f7-7884-442a-bed0-eb6fc4b4c6e9",
   "metadata": {},
   "outputs": [
    {
     "ename": "KeyError",
     "evalue": "\"None of [Index(['gr_liv_area', 'overall_cond'], dtype='object')] are in the [columns]\"",
     "output_type": "error",
     "traceback": [
      "\u001b[0;31m---------------------------------------------------------------------------\u001b[0m",
      "\u001b[0;31mKeyError\u001b[0m                                  Traceback (most recent call last)",
      "\u001b[0;32m/var/folders/xg/m55_3f_j3gj2wj8qgbv3jj_c0000gn/T/ipykernel_24761/3404435806.py\u001b[0m in \u001b[0;36m<module>\u001b[0;34m\u001b[0m\n\u001b[0;32m----> 1\u001b[0;31m \u001b[0mvariance_inflation_factor\u001b[0m\u001b[0;34m(\u001b[0m\u001b[0mtrain\u001b[0m\u001b[0;34m[\u001b[0m\u001b[0;34m[\u001b[0m\u001b[0;34m'gr_liv_area'\u001b[0m\u001b[0;34m,\u001b[0m \u001b[0;34m'overall_cond'\u001b[0m\u001b[0;34m]\u001b[0m\u001b[0;34m]\u001b[0m\u001b[0;34m.\u001b[0m\u001b[0mvalues\u001b[0m\u001b[0;34m,\u001b[0m \u001b[0;36m1\u001b[0m\u001b[0;34m)\u001b[0m\u001b[0;34m\u001b[0m\u001b[0;34m\u001b[0m\u001b[0m\n\u001b[0m",
      "\u001b[0;32m/opt/anaconda3/lib/python3.9/site-packages/pandas/core/frame.py\u001b[0m in \u001b[0;36m__getitem__\u001b[0;34m(self, key)\u001b[0m\n\u001b[1;32m   3462\u001b[0m             \u001b[0;32mif\u001b[0m \u001b[0mis_iterator\u001b[0m\u001b[0;34m(\u001b[0m\u001b[0mkey\u001b[0m\u001b[0;34m)\u001b[0m\u001b[0;34m:\u001b[0m\u001b[0;34m\u001b[0m\u001b[0;34m\u001b[0m\u001b[0m\n\u001b[1;32m   3463\u001b[0m                 \u001b[0mkey\u001b[0m \u001b[0;34m=\u001b[0m \u001b[0mlist\u001b[0m\u001b[0;34m(\u001b[0m\u001b[0mkey\u001b[0m\u001b[0;34m)\u001b[0m\u001b[0;34m\u001b[0m\u001b[0;34m\u001b[0m\u001b[0m\n\u001b[0;32m-> 3464\u001b[0;31m             \u001b[0mindexer\u001b[0m \u001b[0;34m=\u001b[0m \u001b[0mself\u001b[0m\u001b[0;34m.\u001b[0m\u001b[0mloc\u001b[0m\u001b[0;34m.\u001b[0m\u001b[0m_get_listlike_indexer\u001b[0m\u001b[0;34m(\u001b[0m\u001b[0mkey\u001b[0m\u001b[0;34m,\u001b[0m \u001b[0maxis\u001b[0m\u001b[0;34m=\u001b[0m\u001b[0;36m1\u001b[0m\u001b[0;34m)\u001b[0m\u001b[0;34m[\u001b[0m\u001b[0;36m1\u001b[0m\u001b[0;34m]\u001b[0m\u001b[0;34m\u001b[0m\u001b[0;34m\u001b[0m\u001b[0m\n\u001b[0m\u001b[1;32m   3465\u001b[0m \u001b[0;34m\u001b[0m\u001b[0m\n\u001b[1;32m   3466\u001b[0m         \u001b[0;31m# take() does not accept boolean indexers\u001b[0m\u001b[0;34m\u001b[0m\u001b[0;34m\u001b[0m\u001b[0m\n",
      "\u001b[0;32m/opt/anaconda3/lib/python3.9/site-packages/pandas/core/indexing.py\u001b[0m in \u001b[0;36m_get_listlike_indexer\u001b[0;34m(self, key, axis)\u001b[0m\n\u001b[1;32m   1312\u001b[0m             \u001b[0mkeyarr\u001b[0m\u001b[0;34m,\u001b[0m \u001b[0mindexer\u001b[0m\u001b[0;34m,\u001b[0m \u001b[0mnew_indexer\u001b[0m \u001b[0;34m=\u001b[0m \u001b[0max\u001b[0m\u001b[0;34m.\u001b[0m\u001b[0m_reindex_non_unique\u001b[0m\u001b[0;34m(\u001b[0m\u001b[0mkeyarr\u001b[0m\u001b[0;34m)\u001b[0m\u001b[0;34m\u001b[0m\u001b[0;34m\u001b[0m\u001b[0m\n\u001b[1;32m   1313\u001b[0m \u001b[0;34m\u001b[0m\u001b[0m\n\u001b[0;32m-> 1314\u001b[0;31m         \u001b[0mself\u001b[0m\u001b[0;34m.\u001b[0m\u001b[0m_validate_read_indexer\u001b[0m\u001b[0;34m(\u001b[0m\u001b[0mkeyarr\u001b[0m\u001b[0;34m,\u001b[0m \u001b[0mindexer\u001b[0m\u001b[0;34m,\u001b[0m \u001b[0maxis\u001b[0m\u001b[0;34m)\u001b[0m\u001b[0;34m\u001b[0m\u001b[0;34m\u001b[0m\u001b[0m\n\u001b[0m\u001b[1;32m   1315\u001b[0m \u001b[0;34m\u001b[0m\u001b[0m\n\u001b[1;32m   1316\u001b[0m         if needs_i8_conversion(ax.dtype) or isinstance(\n",
      "\u001b[0;32m/opt/anaconda3/lib/python3.9/site-packages/pandas/core/indexing.py\u001b[0m in \u001b[0;36m_validate_read_indexer\u001b[0;34m(self, key, indexer, axis)\u001b[0m\n\u001b[1;32m   1372\u001b[0m                 \u001b[0;32mif\u001b[0m \u001b[0muse_interval_msg\u001b[0m\u001b[0;34m:\u001b[0m\u001b[0;34m\u001b[0m\u001b[0;34m\u001b[0m\u001b[0m\n\u001b[1;32m   1373\u001b[0m                     \u001b[0mkey\u001b[0m \u001b[0;34m=\u001b[0m \u001b[0mlist\u001b[0m\u001b[0;34m(\u001b[0m\u001b[0mkey\u001b[0m\u001b[0;34m)\u001b[0m\u001b[0;34m\u001b[0m\u001b[0;34m\u001b[0m\u001b[0m\n\u001b[0;32m-> 1374\u001b[0;31m                 \u001b[0;32mraise\u001b[0m \u001b[0mKeyError\u001b[0m\u001b[0;34m(\u001b[0m\u001b[0;34mf\"None of [{key}] are in the [{axis_name}]\"\u001b[0m\u001b[0;34m)\u001b[0m\u001b[0;34m\u001b[0m\u001b[0;34m\u001b[0m\u001b[0m\n\u001b[0m\u001b[1;32m   1375\u001b[0m \u001b[0;34m\u001b[0m\u001b[0m\n\u001b[1;32m   1376\u001b[0m             \u001b[0mnot_found\u001b[0m \u001b[0;34m=\u001b[0m \u001b[0mlist\u001b[0m\u001b[0;34m(\u001b[0m\u001b[0mensure_index\u001b[0m\u001b[0;34m(\u001b[0m\u001b[0mkey\u001b[0m\u001b[0;34m)\u001b[0m\u001b[0;34m[\u001b[0m\u001b[0mmissing_mask\u001b[0m\u001b[0;34m.\u001b[0m\u001b[0mnonzero\u001b[0m\u001b[0;34m(\u001b[0m\u001b[0;34m)\u001b[0m\u001b[0;34m[\u001b[0m\u001b[0;36m0\u001b[0m\u001b[0;34m]\u001b[0m\u001b[0;34m]\u001b[0m\u001b[0;34m.\u001b[0m\u001b[0munique\u001b[0m\u001b[0;34m(\u001b[0m\u001b[0;34m)\u001b[0m\u001b[0;34m)\u001b[0m\u001b[0;34m\u001b[0m\u001b[0;34m\u001b[0m\u001b[0m\n",
      "\u001b[0;31mKeyError\u001b[0m: \"None of [Index(['gr_liv_area', 'overall_cond'], dtype='object')] are in the [columns]\""
     ]
    }
   ],
   "source": [
    "variance_inflation_factor(train[['gr_liv_area', 'overall_cond']].values, 1)"
   ]
  },
  {
   "cell_type": "code",
   "execution_count": null,
   "id": "b0470e44-0b16-41ea-92cd-5c0565136de0",
   "metadata": {},
   "outputs": [],
   "source": []
  },
  {
   "cell_type": "code",
   "execution_count": null,
   "id": "66537cd3-c1a4-41fe-84d0-16611820d502",
   "metadata": {},
   "outputs": [],
   "source": [
    "test.columns"
   ]
  },
  {
   "cell_type": "code",
   "execution_count": null,
   "id": "e2ee86e3-feda-40ab-842f-475095f12cb9",
   "metadata": {},
   "outputs": [],
   "source": [
    "train['sale_type'].unique()"
   ]
  },
  {
   "cell_type": "code",
   "execution_count": null,
   "id": "1ade4138-54f0-4c6c-892c-8f11c32d31e3",
   "metadata": {},
   "outputs": [],
   "source": [
    "train[train.corr()[['saleprice']].sort_values(by='saleprice', key=abs, ascending=False).head(10).index].info()"
   ]
  },
  {
   "cell_type": "code",
   "execution_count": null,
   "id": "66f1f9d0-d2bc-43ae-9ebd-4af4d4f03a5c",
   "metadata": {},
   "outputs": [],
   "source": [
    "test.isna().sum().sum()"
   ]
  },
  {
   "cell_type": "code",
   "execution_count": null,
   "id": "8e290ff0-d7d9-425f-b3ae-25c33c79d859",
   "metadata": {},
   "outputs": [],
   "source": [
    "train[train['gr_liv_area'] > 4000]"
   ]
  },
  {
   "cell_type": "code",
   "execution_count": null,
   "id": "3f3096a7-24d3-4702-ab32-0ba748311715",
   "metadata": {},
   "outputs": [],
   "source": [
    "#look for suspicious min and max values\n",
    "for col in train.corr()[['saleprice']].sort_values(by='saleprice', key=abs, ascending=False).head(10).index:\n",
    "    print(f\"{col.title()} min/Max: {train[col].min()} / {train[col].max()}\")\n",
    "    \n",
    "    "
   ]
  },
  {
   "cell_type": "code",
   "execution_count": null,
   "id": "b837bc8a-2367-4cc5-9ae1-dc8486aa929c",
   "metadata": {},
   "outputs": [],
   "source": [
    "train.isna().sum().sort_values(ascending=False).iloc[:26]"
   ]
  },
  {
   "cell_type": "code",
   "execution_count": 214,
   "id": "6dcbc0ac-2774-41a2-8928-e37569018356",
   "metadata": {},
   "outputs": [
    {
     "data": {
      "text/plain": [
       "Id                   1743\n",
       "PID             528228275\n",
       "MS SubClass           120\n",
       "MS Zoning              RL\n",
       "Lot Frontage         53.0\n",
       "                  ...    \n",
       "Misc Val                0\n",
       "Mo Sold                 2\n",
       "Yr Sold              2007\n",
       "Sale Type             New\n",
       "SalePrice          194201\n",
       "Name: 1280, Length: 81, dtype: object"
      ]
     },
     "execution_count": 214,
     "metadata": {},
     "output_type": "execute_result"
    }
   ],
   "source": [
    "train.loc[1280]"
   ]
  },
  {
   "cell_type": "code",
   "execution_count": 215,
   "id": "8a48767b-851b-4d8b-b72f-59c50d4c9267",
   "metadata": {},
   "outputs": [
    {
     "ename": "KeyError",
     "evalue": "\"None of [Index(['saleprice'], dtype='object')] are in the [columns]\"",
     "output_type": "error",
     "traceback": [
      "\u001b[0;31m---------------------------------------------------------------------------\u001b[0m",
      "\u001b[0;31mKeyError\u001b[0m                                  Traceback (most recent call last)",
      "\u001b[0;32m/var/folders/xg/m55_3f_j3gj2wj8qgbv3jj_c0000gn/T/ipykernel_24761/2075889683.py\u001b[0m in \u001b[0;36m<module>\u001b[0;34m\u001b[0m\n\u001b[1;32m      1\u001b[0m \u001b[0mplt\u001b[0m\u001b[0;34m.\u001b[0m\u001b[0mfigure\u001b[0m\u001b[0;34m(\u001b[0m\u001b[0mfigsize\u001b[0m\u001b[0;34m=\u001b[0m\u001b[0;34m(\u001b[0m\u001b[0;36m5\u001b[0m\u001b[0;34m,\u001b[0m\u001b[0;36m15\u001b[0m\u001b[0;34m)\u001b[0m\u001b[0;34m)\u001b[0m\u001b[0;34m\u001b[0m\u001b[0;34m\u001b[0m\u001b[0m\n\u001b[0;32m----> 2\u001b[0;31m \u001b[0msns\u001b[0m\u001b[0;34m.\u001b[0m\u001b[0mheatmap\u001b[0m\u001b[0;34m(\u001b[0m\u001b[0mtrain\u001b[0m\u001b[0;34m.\u001b[0m\u001b[0mcorr\u001b[0m\u001b[0;34m(\u001b[0m\u001b[0;34m)\u001b[0m\u001b[0;34m[\u001b[0m\u001b[0;34m[\u001b[0m\u001b[0;34m'saleprice'\u001b[0m\u001b[0;34m]\u001b[0m\u001b[0;34m]\u001b[0m\u001b[0;34m.\u001b[0m\u001b[0msort_values\u001b[0m\u001b[0;34m(\u001b[0m\u001b[0mby\u001b[0m\u001b[0;34m=\u001b[0m\u001b[0;34m'saleprice'\u001b[0m\u001b[0;34m,\u001b[0m \u001b[0mkey\u001b[0m\u001b[0;34m=\u001b[0m\u001b[0mabs\u001b[0m\u001b[0;34m,\u001b[0m \u001b[0mascending\u001b[0m\u001b[0;34m=\u001b[0m\u001b[0;32mFalse\u001b[0m\u001b[0;34m)\u001b[0m\u001b[0;34m,\u001b[0m \u001b[0mannot\u001b[0m\u001b[0;34m=\u001b[0m\u001b[0;32mTrue\u001b[0m\u001b[0;34m,\u001b[0m \u001b[0mvmin\u001b[0m\u001b[0;34m=\u001b[0m\u001b[0;34m-\u001b[0m\u001b[0;36m1\u001b[0m\u001b[0;34m,\u001b[0m \u001b[0mvmax\u001b[0m\u001b[0;34m=\u001b[0m\u001b[0;36m1\u001b[0m\u001b[0;34m)\u001b[0m\u001b[0;34m\u001b[0m\u001b[0;34m\u001b[0m\u001b[0m\n\u001b[0m",
      "\u001b[0;32m/opt/anaconda3/lib/python3.9/site-packages/pandas/core/frame.py\u001b[0m in \u001b[0;36m__getitem__\u001b[0;34m(self, key)\u001b[0m\n\u001b[1;32m   3462\u001b[0m             \u001b[0;32mif\u001b[0m \u001b[0mis_iterator\u001b[0m\u001b[0;34m(\u001b[0m\u001b[0mkey\u001b[0m\u001b[0;34m)\u001b[0m\u001b[0;34m:\u001b[0m\u001b[0;34m\u001b[0m\u001b[0;34m\u001b[0m\u001b[0m\n\u001b[1;32m   3463\u001b[0m                 \u001b[0mkey\u001b[0m \u001b[0;34m=\u001b[0m \u001b[0mlist\u001b[0m\u001b[0;34m(\u001b[0m\u001b[0mkey\u001b[0m\u001b[0;34m)\u001b[0m\u001b[0;34m\u001b[0m\u001b[0;34m\u001b[0m\u001b[0m\n\u001b[0;32m-> 3464\u001b[0;31m             \u001b[0mindexer\u001b[0m \u001b[0;34m=\u001b[0m \u001b[0mself\u001b[0m\u001b[0;34m.\u001b[0m\u001b[0mloc\u001b[0m\u001b[0;34m.\u001b[0m\u001b[0m_get_listlike_indexer\u001b[0m\u001b[0;34m(\u001b[0m\u001b[0mkey\u001b[0m\u001b[0;34m,\u001b[0m \u001b[0maxis\u001b[0m\u001b[0;34m=\u001b[0m\u001b[0;36m1\u001b[0m\u001b[0;34m)\u001b[0m\u001b[0;34m[\u001b[0m\u001b[0;36m1\u001b[0m\u001b[0;34m]\u001b[0m\u001b[0;34m\u001b[0m\u001b[0;34m\u001b[0m\u001b[0m\n\u001b[0m\u001b[1;32m   3465\u001b[0m \u001b[0;34m\u001b[0m\u001b[0m\n\u001b[1;32m   3466\u001b[0m         \u001b[0;31m# take() does not accept boolean indexers\u001b[0m\u001b[0;34m\u001b[0m\u001b[0;34m\u001b[0m\u001b[0m\n",
      "\u001b[0;32m/opt/anaconda3/lib/python3.9/site-packages/pandas/core/indexing.py\u001b[0m in \u001b[0;36m_get_listlike_indexer\u001b[0;34m(self, key, axis)\u001b[0m\n\u001b[1;32m   1312\u001b[0m             \u001b[0mkeyarr\u001b[0m\u001b[0;34m,\u001b[0m \u001b[0mindexer\u001b[0m\u001b[0;34m,\u001b[0m \u001b[0mnew_indexer\u001b[0m \u001b[0;34m=\u001b[0m \u001b[0max\u001b[0m\u001b[0;34m.\u001b[0m\u001b[0m_reindex_non_unique\u001b[0m\u001b[0;34m(\u001b[0m\u001b[0mkeyarr\u001b[0m\u001b[0;34m)\u001b[0m\u001b[0;34m\u001b[0m\u001b[0;34m\u001b[0m\u001b[0m\n\u001b[1;32m   1313\u001b[0m \u001b[0;34m\u001b[0m\u001b[0m\n\u001b[0;32m-> 1314\u001b[0;31m         \u001b[0mself\u001b[0m\u001b[0;34m.\u001b[0m\u001b[0m_validate_read_indexer\u001b[0m\u001b[0;34m(\u001b[0m\u001b[0mkeyarr\u001b[0m\u001b[0;34m,\u001b[0m \u001b[0mindexer\u001b[0m\u001b[0;34m,\u001b[0m \u001b[0maxis\u001b[0m\u001b[0;34m)\u001b[0m\u001b[0;34m\u001b[0m\u001b[0;34m\u001b[0m\u001b[0m\n\u001b[0m\u001b[1;32m   1315\u001b[0m \u001b[0;34m\u001b[0m\u001b[0m\n\u001b[1;32m   1316\u001b[0m         if needs_i8_conversion(ax.dtype) or isinstance(\n",
      "\u001b[0;32m/opt/anaconda3/lib/python3.9/site-packages/pandas/core/indexing.py\u001b[0m in \u001b[0;36m_validate_read_indexer\u001b[0;34m(self, key, indexer, axis)\u001b[0m\n\u001b[1;32m   1372\u001b[0m                 \u001b[0;32mif\u001b[0m \u001b[0muse_interval_msg\u001b[0m\u001b[0;34m:\u001b[0m\u001b[0;34m\u001b[0m\u001b[0;34m\u001b[0m\u001b[0m\n\u001b[1;32m   1373\u001b[0m                     \u001b[0mkey\u001b[0m \u001b[0;34m=\u001b[0m \u001b[0mlist\u001b[0m\u001b[0;34m(\u001b[0m\u001b[0mkey\u001b[0m\u001b[0;34m)\u001b[0m\u001b[0;34m\u001b[0m\u001b[0;34m\u001b[0m\u001b[0m\n\u001b[0;32m-> 1374\u001b[0;31m                 \u001b[0;32mraise\u001b[0m \u001b[0mKeyError\u001b[0m\u001b[0;34m(\u001b[0m\u001b[0;34mf\"None of [{key}] are in the [{axis_name}]\"\u001b[0m\u001b[0;34m)\u001b[0m\u001b[0;34m\u001b[0m\u001b[0;34m\u001b[0m\u001b[0m\n\u001b[0m\u001b[1;32m   1375\u001b[0m \u001b[0;34m\u001b[0m\u001b[0m\n\u001b[1;32m   1376\u001b[0m             \u001b[0mnot_found\u001b[0m \u001b[0;34m=\u001b[0m \u001b[0mlist\u001b[0m\u001b[0;34m(\u001b[0m\u001b[0mensure_index\u001b[0m\u001b[0;34m(\u001b[0m\u001b[0mkey\u001b[0m\u001b[0;34m)\u001b[0m\u001b[0;34m[\u001b[0m\u001b[0mmissing_mask\u001b[0m\u001b[0;34m.\u001b[0m\u001b[0mnonzero\u001b[0m\u001b[0;34m(\u001b[0m\u001b[0;34m)\u001b[0m\u001b[0;34m[\u001b[0m\u001b[0;36m0\u001b[0m\u001b[0;34m]\u001b[0m\u001b[0;34m]\u001b[0m\u001b[0;34m.\u001b[0m\u001b[0munique\u001b[0m\u001b[0;34m(\u001b[0m\u001b[0;34m)\u001b[0m\u001b[0;34m)\u001b[0m\u001b[0;34m\u001b[0m\u001b[0;34m\u001b[0m\u001b[0m\n",
      "\u001b[0;31mKeyError\u001b[0m: \"None of [Index(['saleprice'], dtype='object')] are in the [columns]\""
     ]
    },
    {
     "data": {
      "text/plain": [
       "<Figure size 360x1080 with 0 Axes>"
      ]
     },
     "metadata": {},
     "output_type": "display_data"
    }
   ],
   "source": [
    "plt.figure(figsize=(5,15))\n",
    "sns.heatmap(train.corr()[['saleprice']].sort_values(by='saleprice', key=abs, ascending=False), annot=True, vmin=-1, vmax=1)"
   ]
  },
  {
   "cell_type": "code",
   "execution_count": null,
   "id": "d596e985-0183-4bae-9fef-8089b169c74e",
   "metadata": {},
   "outputs": [],
   "source": [
    "train['gr_liv_area'].min(), train['gr_liv_area'].max()"
   ]
  },
  {
   "cell_type": "code",
   "execution_count": null,
   "id": "38e1bc5d-e263-4833-b956-61420e779087",
   "metadata": {},
   "outputs": [],
   "source": [
    "test.info()"
   ]
  },
  {
   "cell_type": "code",
   "execution_count": null,
   "id": "acd9e42d-8238-4998-b191-4a2aebc01751",
   "metadata": {},
   "outputs": [],
   "source": []
  },
  {
   "cell_type": "code",
   "execution_count": null,
   "id": "bc0f051a-4937-415e-b28e-12304e8f63cc",
   "metadata": {},
   "outputs": [],
   "source": [
    "train[train['total_bsmt_sf'] > 5000]"
   ]
  },
  {
   "cell_type": "code",
   "execution_count": null,
   "id": "b4bd07b8-3db1-47fc-accc-863937f59473",
   "metadata": {},
   "outputs": [],
   "source": [
    "train['total_bsmt_sf'].min(), train['total_bsmt_sf'].max()"
   ]
  },
  {
   "cell_type": "code",
   "execution_count": null,
   "id": "7810c7f1-25af-4d6f-8894-b93a02b3614f",
   "metadata": {
    "tags": []
   },
   "outputs": [],
   "source": [
    "train[train['total_bsmt_sf'] == 0].loc[:,[x for x in train.columns if 'bsmt' in x]]"
   ]
  },
  {
   "cell_type": "code",
   "execution_count": null,
   "id": "c596c4c6-5ec6-4b29-aa20-cc91c5f12784",
   "metadata": {},
   "outputs": [],
   "source": [
    "test.isna().sum().sort_values(ascending=False).iloc[:26]"
   ]
  },
  {
   "cell_type": "code",
   "execution_count": null,
   "id": "c82d2266-e336-4eb4-808f-8f0fdfdf0081",
   "metadata": {},
   "outputs": [],
   "source": [
    "train.dropna(axis=0, thresh=train.shape[1] - 5).shape, train.shape"
   ]
  },
  {
   "cell_type": "code",
   "execution_count": null,
   "id": "58a615d9-b5e7-46e5-a147-457d8a2c0d62",
   "metadata": {},
   "outputs": [],
   "source": [
    "msn.matrix(train)"
   ]
  },
  {
   "cell_type": "code",
   "execution_count": null,
   "id": "aab0e2a0-0103-4a7b-a7b1-86ae8ba8f737",
   "metadata": {
    "tags": []
   },
   "outputs": [],
   "source": [
    "plt.hist(train['saleprice'], bins=50);\n",
    "plt.axvline(train['saleprice'].mean(), color='red')"
   ]
  },
  {
   "cell_type": "code",
   "execution_count": 216,
   "id": "1c8473ef-a795-4bf2-b509-6d495cfe969a",
   "metadata": {},
   "outputs": [
    {
     "ename": "KeyError",
     "evalue": "'saleprice'",
     "output_type": "error",
     "traceback": [
      "\u001b[0;31m---------------------------------------------------------------------------\u001b[0m",
      "\u001b[0;31mKeyError\u001b[0m                                  Traceback (most recent call last)",
      "\u001b[0;32m/opt/anaconda3/lib/python3.9/site-packages/pandas/core/indexes/base.py\u001b[0m in \u001b[0;36mget_loc\u001b[0;34m(self, key, method, tolerance)\u001b[0m\n\u001b[1;32m   3360\u001b[0m             \u001b[0;32mtry\u001b[0m\u001b[0;34m:\u001b[0m\u001b[0;34m\u001b[0m\u001b[0;34m\u001b[0m\u001b[0m\n\u001b[0;32m-> 3361\u001b[0;31m                 \u001b[0;32mreturn\u001b[0m \u001b[0mself\u001b[0m\u001b[0;34m.\u001b[0m\u001b[0m_engine\u001b[0m\u001b[0;34m.\u001b[0m\u001b[0mget_loc\u001b[0m\u001b[0;34m(\u001b[0m\u001b[0mcasted_key\u001b[0m\u001b[0;34m)\u001b[0m\u001b[0;34m\u001b[0m\u001b[0;34m\u001b[0m\u001b[0m\n\u001b[0m\u001b[1;32m   3362\u001b[0m             \u001b[0;32mexcept\u001b[0m \u001b[0mKeyError\u001b[0m \u001b[0;32mas\u001b[0m \u001b[0merr\u001b[0m\u001b[0;34m:\u001b[0m\u001b[0;34m\u001b[0m\u001b[0;34m\u001b[0m\u001b[0m\n",
      "\u001b[0;32m/opt/anaconda3/lib/python3.9/site-packages/pandas/_libs/index.pyx\u001b[0m in \u001b[0;36mpandas._libs.index.IndexEngine.get_loc\u001b[0;34m()\u001b[0m\n",
      "\u001b[0;32m/opt/anaconda3/lib/python3.9/site-packages/pandas/_libs/index.pyx\u001b[0m in \u001b[0;36mpandas._libs.index.IndexEngine.get_loc\u001b[0;34m()\u001b[0m\n",
      "\u001b[0;32mpandas/_libs/hashtable_class_helper.pxi\u001b[0m in \u001b[0;36mpandas._libs.hashtable.PyObjectHashTable.get_item\u001b[0;34m()\u001b[0m\n",
      "\u001b[0;32mpandas/_libs/hashtable_class_helper.pxi\u001b[0m in \u001b[0;36mpandas._libs.hashtable.PyObjectHashTable.get_item\u001b[0;34m()\u001b[0m\n",
      "\u001b[0;31mKeyError\u001b[0m: 'saleprice'",
      "\nThe above exception was the direct cause of the following exception:\n",
      "\u001b[0;31mKeyError\u001b[0m                                  Traceback (most recent call last)",
      "\u001b[0;32m/var/folders/xg/m55_3f_j3gj2wj8qgbv3jj_c0000gn/T/ipykernel_24761/2059856414.py\u001b[0m in \u001b[0;36m<module>\u001b[0;34m\u001b[0m\n\u001b[0;32m----> 1\u001b[0;31m \u001b[0mplt\u001b[0m\u001b[0;34m.\u001b[0m\u001b[0mhist\u001b[0m\u001b[0;34m(\u001b[0m\u001b[0mnp\u001b[0m\u001b[0;34m.\u001b[0m\u001b[0mlog\u001b[0m\u001b[0;34m(\u001b[0m\u001b[0mtrain\u001b[0m\u001b[0;34m[\u001b[0m\u001b[0;34m'saleprice'\u001b[0m\u001b[0;34m]\u001b[0m\u001b[0;34m)\u001b[0m\u001b[0;34m,\u001b[0m \u001b[0mbins\u001b[0m\u001b[0;34m=\u001b[0m\u001b[0;36m50\u001b[0m\u001b[0;34m)\u001b[0m\u001b[0;34m\u001b[0m\u001b[0;34m\u001b[0m\u001b[0m\n\u001b[0m\u001b[1;32m      2\u001b[0m \u001b[0mplt\u001b[0m\u001b[0;34m.\u001b[0m\u001b[0maxvline\u001b[0m\u001b[0;34m(\u001b[0m\u001b[0mnp\u001b[0m\u001b[0;34m.\u001b[0m\u001b[0mlog\u001b[0m\u001b[0;34m(\u001b[0m\u001b[0mtrain\u001b[0m\u001b[0;34m[\u001b[0m\u001b[0;34m'saleprice'\u001b[0m\u001b[0;34m]\u001b[0m\u001b[0;34m)\u001b[0m\u001b[0;34m.\u001b[0m\u001b[0mmean\u001b[0m\u001b[0;34m(\u001b[0m\u001b[0;34m)\u001b[0m\u001b[0;34m,\u001b[0m \u001b[0mcolor\u001b[0m\u001b[0;34m=\u001b[0m\u001b[0;34m'red'\u001b[0m\u001b[0;34m)\u001b[0m\u001b[0;34m\u001b[0m\u001b[0;34m\u001b[0m\u001b[0m\n\u001b[1;32m      3\u001b[0m \u001b[0mplt\u001b[0m\u001b[0;34m.\u001b[0m\u001b[0mshow\u001b[0m\u001b[0;34m(\u001b[0m\u001b[0;34m)\u001b[0m\u001b[0;34m\u001b[0m\u001b[0;34m\u001b[0m\u001b[0m\n",
      "\u001b[0;32m/opt/anaconda3/lib/python3.9/site-packages/pandas/core/frame.py\u001b[0m in \u001b[0;36m__getitem__\u001b[0;34m(self, key)\u001b[0m\n\u001b[1;32m   3456\u001b[0m             \u001b[0;32mif\u001b[0m \u001b[0mself\u001b[0m\u001b[0;34m.\u001b[0m\u001b[0mcolumns\u001b[0m\u001b[0;34m.\u001b[0m\u001b[0mnlevels\u001b[0m \u001b[0;34m>\u001b[0m \u001b[0;36m1\u001b[0m\u001b[0;34m:\u001b[0m\u001b[0;34m\u001b[0m\u001b[0;34m\u001b[0m\u001b[0m\n\u001b[1;32m   3457\u001b[0m                 \u001b[0;32mreturn\u001b[0m \u001b[0mself\u001b[0m\u001b[0;34m.\u001b[0m\u001b[0m_getitem_multilevel\u001b[0m\u001b[0;34m(\u001b[0m\u001b[0mkey\u001b[0m\u001b[0;34m)\u001b[0m\u001b[0;34m\u001b[0m\u001b[0;34m\u001b[0m\u001b[0m\n\u001b[0;32m-> 3458\u001b[0;31m             \u001b[0mindexer\u001b[0m \u001b[0;34m=\u001b[0m \u001b[0mself\u001b[0m\u001b[0;34m.\u001b[0m\u001b[0mcolumns\u001b[0m\u001b[0;34m.\u001b[0m\u001b[0mget_loc\u001b[0m\u001b[0;34m(\u001b[0m\u001b[0mkey\u001b[0m\u001b[0;34m)\u001b[0m\u001b[0;34m\u001b[0m\u001b[0;34m\u001b[0m\u001b[0m\n\u001b[0m\u001b[1;32m   3459\u001b[0m             \u001b[0;32mif\u001b[0m \u001b[0mis_integer\u001b[0m\u001b[0;34m(\u001b[0m\u001b[0mindexer\u001b[0m\u001b[0;34m)\u001b[0m\u001b[0;34m:\u001b[0m\u001b[0;34m\u001b[0m\u001b[0;34m\u001b[0m\u001b[0m\n\u001b[1;32m   3460\u001b[0m                 \u001b[0mindexer\u001b[0m \u001b[0;34m=\u001b[0m \u001b[0;34m[\u001b[0m\u001b[0mindexer\u001b[0m\u001b[0;34m]\u001b[0m\u001b[0;34m\u001b[0m\u001b[0;34m\u001b[0m\u001b[0m\n",
      "\u001b[0;32m/opt/anaconda3/lib/python3.9/site-packages/pandas/core/indexes/base.py\u001b[0m in \u001b[0;36mget_loc\u001b[0;34m(self, key, method, tolerance)\u001b[0m\n\u001b[1;32m   3361\u001b[0m                 \u001b[0;32mreturn\u001b[0m \u001b[0mself\u001b[0m\u001b[0;34m.\u001b[0m\u001b[0m_engine\u001b[0m\u001b[0;34m.\u001b[0m\u001b[0mget_loc\u001b[0m\u001b[0;34m(\u001b[0m\u001b[0mcasted_key\u001b[0m\u001b[0;34m)\u001b[0m\u001b[0;34m\u001b[0m\u001b[0;34m\u001b[0m\u001b[0m\n\u001b[1;32m   3362\u001b[0m             \u001b[0;32mexcept\u001b[0m \u001b[0mKeyError\u001b[0m \u001b[0;32mas\u001b[0m \u001b[0merr\u001b[0m\u001b[0;34m:\u001b[0m\u001b[0;34m\u001b[0m\u001b[0;34m\u001b[0m\u001b[0m\n\u001b[0;32m-> 3363\u001b[0;31m                 \u001b[0;32mraise\u001b[0m \u001b[0mKeyError\u001b[0m\u001b[0;34m(\u001b[0m\u001b[0mkey\u001b[0m\u001b[0;34m)\u001b[0m \u001b[0;32mfrom\u001b[0m \u001b[0merr\u001b[0m\u001b[0;34m\u001b[0m\u001b[0;34m\u001b[0m\u001b[0m\n\u001b[0m\u001b[1;32m   3364\u001b[0m \u001b[0;34m\u001b[0m\u001b[0m\n\u001b[1;32m   3365\u001b[0m         \u001b[0;32mif\u001b[0m \u001b[0mis_scalar\u001b[0m\u001b[0;34m(\u001b[0m\u001b[0mkey\u001b[0m\u001b[0;34m)\u001b[0m \u001b[0;32mand\u001b[0m \u001b[0misna\u001b[0m\u001b[0;34m(\u001b[0m\u001b[0mkey\u001b[0m\u001b[0;34m)\u001b[0m \u001b[0;32mand\u001b[0m \u001b[0;32mnot\u001b[0m \u001b[0mself\u001b[0m\u001b[0;34m.\u001b[0m\u001b[0mhasnans\u001b[0m\u001b[0;34m:\u001b[0m\u001b[0;34m\u001b[0m\u001b[0;34m\u001b[0m\u001b[0m\n",
      "\u001b[0;31mKeyError\u001b[0m: 'saleprice'"
     ]
    }
   ],
   "source": [
    "plt.hist(np.log(train['saleprice']), bins=50)\n",
    "plt.axvline(np.log(train['saleprice']).mean(), color='red')\n",
    "plt.show()"
   ]
  },
  {
   "cell_type": "code",
   "execution_count": null,
   "id": "6183da53-a50c-4c8c-a6a1-71f4ebd795aa",
   "metadata": {},
   "outputs": [],
   "source": [
    "sns.pairplot(train, x_vars=['garage_area', 'total_bsmt_sf', 'bsmt_full_bath', 'full_bath', 'bsmt_half_bath', 'half_bath','overall_qual', 'gr_liv_area', 'year_built', 'year_remod/add', 'lot_frontage', 'lot_area'], y_vars=['saleprice'])\n"
   ]
  },
  {
   "cell_type": "code",
   "execution_count": null,
   "id": "e11fe9fb-87b9-4288-ae1b-1c1c2d88ea9a",
   "metadata": {},
   "outputs": [],
   "source": [
    "plt.scatter(train['lot_frontage'], train['lot_area'])"
   ]
  },
  {
   "cell_type": "code",
   "execution_count": null,
   "id": "7bbaacba-b09b-4e4c-aacb-71e9dc40e86d",
   "metadata": {},
   "outputs": [],
   "source": [
    "plt.scatter(train['lot_frontage'] * train['lot_area'], train['saleprice'])"
   ]
  },
  {
   "cell_type": "code",
   "execution_count": null,
   "id": "4c3b06a8-15f5-43f0-b2cb-646ed68cd034",
   "metadata": {},
   "outputs": [],
   "source": [
    "plt.hist(train[train['year_built'] > 1995]['saleprice'], bins=50)\n",
    "plt.axvline(train[train['year_built'] > 1995]['saleprice'].mean(), color='red')"
   ]
  },
  {
   "cell_type": "code",
   "execution_count": null,
   "id": "6c2ff700-9220-4775-9792-1ca051ccf612",
   "metadata": {},
   "outputs": [],
   "source": [
    "test[test['lot_area'] > 100000]"
   ]
  },
  {
   "cell_type": "code",
   "execution_count": null,
   "id": "7f5d7644-36a5-4c53-87fd-54ba6e639bc3",
   "metadata": {},
   "outputs": [],
   "source": [
    "test[test['gr_liv_area'] > 4000]"
   ]
  },
  {
   "cell_type": "code",
   "execution_count": null,
   "id": "1ce98d8e-bb1f-4001-bae8-484190818af7",
   "metadata": {},
   "outputs": [],
   "source": [
    "plt.scatter(train['lot_frontage'] * train['lot_area'], train['saleprice'])"
   ]
  },
  {
   "cell_type": "code",
   "execution_count": null,
   "id": "497d3f2a-9f36-491f-ad62-b37e5114cdfc",
   "metadata": {},
   "outputs": [],
   "source": [
    "plt.scatter(train[train['year_built'] <= 2002]['year_built'], train[train['year_built'] <= 2002]['saleprice'])"
   ]
  },
  {
   "cell_type": "code",
   "execution_count": null,
   "id": "adcec3b4-7916-4f79-901d-f18105563805",
   "metadata": {},
   "outputs": [],
   "source": [
    "plt.scatter(train[train['year_built'] > 2002]['year_built'], train[train['year_built'] > 2002]['saleprice'])"
   ]
  },
  {
   "cell_type": "code",
   "execution_count": null,
   "id": "da7e585a-162e-484f-a792-443216bff487",
   "metadata": {},
   "outputs": [],
   "source": [
    "train[train['lot_frontage'].isna()]"
   ]
  },
  {
   "cell_type": "code",
   "execution_count": 217,
   "id": "ced01942-6297-498b-bd21-7b30f0eeaf5b",
   "metadata": {},
   "outputs": [
    {
     "ename": "KeyError",
     "evalue": "'lot_frontage'",
     "output_type": "error",
     "traceback": [
      "\u001b[0;31m---------------------------------------------------------------------------\u001b[0m",
      "\u001b[0;31mKeyError\u001b[0m                                  Traceback (most recent call last)",
      "\u001b[0;32m/opt/anaconda3/lib/python3.9/site-packages/pandas/core/indexes/base.py\u001b[0m in \u001b[0;36mget_loc\u001b[0;34m(self, key, method, tolerance)\u001b[0m\n\u001b[1;32m   3360\u001b[0m             \u001b[0;32mtry\u001b[0m\u001b[0;34m:\u001b[0m\u001b[0;34m\u001b[0m\u001b[0;34m\u001b[0m\u001b[0m\n\u001b[0;32m-> 3361\u001b[0;31m                 \u001b[0;32mreturn\u001b[0m \u001b[0mself\u001b[0m\u001b[0;34m.\u001b[0m\u001b[0m_engine\u001b[0m\u001b[0;34m.\u001b[0m\u001b[0mget_loc\u001b[0m\u001b[0;34m(\u001b[0m\u001b[0mcasted_key\u001b[0m\u001b[0;34m)\u001b[0m\u001b[0;34m\u001b[0m\u001b[0;34m\u001b[0m\u001b[0m\n\u001b[0m\u001b[1;32m   3362\u001b[0m             \u001b[0;32mexcept\u001b[0m \u001b[0mKeyError\u001b[0m \u001b[0;32mas\u001b[0m \u001b[0merr\u001b[0m\u001b[0;34m:\u001b[0m\u001b[0;34m\u001b[0m\u001b[0;34m\u001b[0m\u001b[0m\n",
      "\u001b[0;32m/opt/anaconda3/lib/python3.9/site-packages/pandas/_libs/index.pyx\u001b[0m in \u001b[0;36mpandas._libs.index.IndexEngine.get_loc\u001b[0;34m()\u001b[0m\n",
      "\u001b[0;32m/opt/anaconda3/lib/python3.9/site-packages/pandas/_libs/index.pyx\u001b[0m in \u001b[0;36mpandas._libs.index.IndexEngine.get_loc\u001b[0;34m()\u001b[0m\n",
      "\u001b[0;32mpandas/_libs/hashtable_class_helper.pxi\u001b[0m in \u001b[0;36mpandas._libs.hashtable.PyObjectHashTable.get_item\u001b[0;34m()\u001b[0m\n",
      "\u001b[0;32mpandas/_libs/hashtable_class_helper.pxi\u001b[0m in \u001b[0;36mpandas._libs.hashtable.PyObjectHashTable.get_item\u001b[0;34m()\u001b[0m\n",
      "\u001b[0;31mKeyError\u001b[0m: 'lot_frontage'",
      "\nThe above exception was the direct cause of the following exception:\n",
      "\u001b[0;31mKeyError\u001b[0m                                  Traceback (most recent call last)",
      "\u001b[0;32m/var/folders/xg/m55_3f_j3gj2wj8qgbv3jj_c0000gn/T/ipykernel_24761/2927885815.py\u001b[0m in \u001b[0;36m<module>\u001b[0;34m\u001b[0m\n\u001b[0;32m----> 1\u001b[0;31m \u001b[0mtrain\u001b[0m\u001b[0;34m[\u001b[0m\u001b[0mtrain\u001b[0m\u001b[0;34m[\u001b[0m\u001b[0;34m'lot_frontage'\u001b[0m\u001b[0;34m]\u001b[0m\u001b[0;34m.\u001b[0m\u001b[0misna\u001b[0m\u001b[0;34m(\u001b[0m\u001b[0;34m)\u001b[0m\u001b[0;34m]\u001b[0m\u001b[0;34m\u001b[0m\u001b[0;34m\u001b[0m\u001b[0m\n\u001b[0m",
      "\u001b[0;32m/opt/anaconda3/lib/python3.9/site-packages/pandas/core/frame.py\u001b[0m in \u001b[0;36m__getitem__\u001b[0;34m(self, key)\u001b[0m\n\u001b[1;32m   3456\u001b[0m             \u001b[0;32mif\u001b[0m \u001b[0mself\u001b[0m\u001b[0;34m.\u001b[0m\u001b[0mcolumns\u001b[0m\u001b[0;34m.\u001b[0m\u001b[0mnlevels\u001b[0m \u001b[0;34m>\u001b[0m \u001b[0;36m1\u001b[0m\u001b[0;34m:\u001b[0m\u001b[0;34m\u001b[0m\u001b[0;34m\u001b[0m\u001b[0m\n\u001b[1;32m   3457\u001b[0m                 \u001b[0;32mreturn\u001b[0m \u001b[0mself\u001b[0m\u001b[0;34m.\u001b[0m\u001b[0m_getitem_multilevel\u001b[0m\u001b[0;34m(\u001b[0m\u001b[0mkey\u001b[0m\u001b[0;34m)\u001b[0m\u001b[0;34m\u001b[0m\u001b[0;34m\u001b[0m\u001b[0m\n\u001b[0;32m-> 3458\u001b[0;31m             \u001b[0mindexer\u001b[0m \u001b[0;34m=\u001b[0m \u001b[0mself\u001b[0m\u001b[0;34m.\u001b[0m\u001b[0mcolumns\u001b[0m\u001b[0;34m.\u001b[0m\u001b[0mget_loc\u001b[0m\u001b[0;34m(\u001b[0m\u001b[0mkey\u001b[0m\u001b[0;34m)\u001b[0m\u001b[0;34m\u001b[0m\u001b[0;34m\u001b[0m\u001b[0m\n\u001b[0m\u001b[1;32m   3459\u001b[0m             \u001b[0;32mif\u001b[0m \u001b[0mis_integer\u001b[0m\u001b[0;34m(\u001b[0m\u001b[0mindexer\u001b[0m\u001b[0;34m)\u001b[0m\u001b[0;34m:\u001b[0m\u001b[0;34m\u001b[0m\u001b[0;34m\u001b[0m\u001b[0m\n\u001b[1;32m   3460\u001b[0m                 \u001b[0mindexer\u001b[0m \u001b[0;34m=\u001b[0m \u001b[0;34m[\u001b[0m\u001b[0mindexer\u001b[0m\u001b[0;34m]\u001b[0m\u001b[0;34m\u001b[0m\u001b[0;34m\u001b[0m\u001b[0m\n",
      "\u001b[0;32m/opt/anaconda3/lib/python3.9/site-packages/pandas/core/indexes/base.py\u001b[0m in \u001b[0;36mget_loc\u001b[0;34m(self, key, method, tolerance)\u001b[0m\n\u001b[1;32m   3361\u001b[0m                 \u001b[0;32mreturn\u001b[0m \u001b[0mself\u001b[0m\u001b[0;34m.\u001b[0m\u001b[0m_engine\u001b[0m\u001b[0;34m.\u001b[0m\u001b[0mget_loc\u001b[0m\u001b[0;34m(\u001b[0m\u001b[0mcasted_key\u001b[0m\u001b[0;34m)\u001b[0m\u001b[0;34m\u001b[0m\u001b[0;34m\u001b[0m\u001b[0m\n\u001b[1;32m   3362\u001b[0m             \u001b[0;32mexcept\u001b[0m \u001b[0mKeyError\u001b[0m \u001b[0;32mas\u001b[0m \u001b[0merr\u001b[0m\u001b[0;34m:\u001b[0m\u001b[0;34m\u001b[0m\u001b[0;34m\u001b[0m\u001b[0m\n\u001b[0;32m-> 3363\u001b[0;31m                 \u001b[0;32mraise\u001b[0m \u001b[0mKeyError\u001b[0m\u001b[0;34m(\u001b[0m\u001b[0mkey\u001b[0m\u001b[0;34m)\u001b[0m \u001b[0;32mfrom\u001b[0m \u001b[0merr\u001b[0m\u001b[0;34m\u001b[0m\u001b[0;34m\u001b[0m\u001b[0m\n\u001b[0m\u001b[1;32m   3364\u001b[0m \u001b[0;34m\u001b[0m\u001b[0m\n\u001b[1;32m   3365\u001b[0m         \u001b[0;32mif\u001b[0m \u001b[0mis_scalar\u001b[0m\u001b[0;34m(\u001b[0m\u001b[0mkey\u001b[0m\u001b[0;34m)\u001b[0m \u001b[0;32mand\u001b[0m \u001b[0misna\u001b[0m\u001b[0;34m(\u001b[0m\u001b[0mkey\u001b[0m\u001b[0;34m)\u001b[0m \u001b[0;32mand\u001b[0m \u001b[0;32mnot\u001b[0m \u001b[0mself\u001b[0m\u001b[0;34m.\u001b[0m\u001b[0mhasnans\u001b[0m\u001b[0;34m:\u001b[0m\u001b[0;34m\u001b[0m\u001b[0;34m\u001b[0m\u001b[0m\n",
      "\u001b[0;31mKeyError\u001b[0m: 'lot_frontage'"
     ]
    }
   ],
   "source": [
    "train[train['lot_frontage'].isna()]"
   ]
  },
  {
   "cell_type": "markdown",
   "id": "5670a559-e682-4376-a5a9-982fd6e5a439",
   "metadata": {
    "tags": []
   },
   "source": [
    "#### Categorical Variables"
   ]
  },
  {
   "cell_type": "code",
   "execution_count": null,
   "id": "8ccdaa5f-7c06-4f50-9701-40dc13a5bbe7",
   "metadata": {},
   "outputs": [],
   "source": [
    "dummy_df = pd.get_dummies(train, columns=[x for x in train.columns if x not in train._get_numeric_data().columns]).drop(columns=[x for x in train._get_numeric_data().columns if x != 'saleprice'])\n",
    "dummy_df.describe().T"
   ]
  },
  {
   "cell_type": "code",
   "execution_count": null,
   "id": "9301faf9-8124-4747-bc7b-0370950bcac2",
   "metadata": {},
   "outputs": [],
   "source": [
    "sns.heatmap(dummy_df.corr()[['saleprice']].sort_values(by='saleprice', key=abs, ascending=False).head(15), annot=True, vmin=-1, vmax=1)\n",
    "\n"
   ]
  },
  {
   "cell_type": "code",
   "execution_count": null,
   "id": "c2fa319b-1082-4208-8df9-053cb5b91a9e",
   "metadata": {},
   "outputs": [],
   "source": [
    "#exter_qual\n",
    "#bsmt_qual\n",
    "#kitchen_qual"
   ]
  },
  {
   "cell_type": "code",
   "execution_count": null,
   "id": "a6f6d5c2-2594-4e2a-8760-49a49b779c85",
   "metadata": {},
   "outputs": [],
   "source": []
  },
  {
   "cell_type": "markdown",
   "id": "9d678ef3-76da-45d6-99b9-4a5c08db8c3d",
   "metadata": {},
   "source": [
    "### Feature Engineering"
   ]
  },
  {
   "cell_type": "markdown",
   "id": "768589bf-3ec1-45a4-9139-e90a9cc2341d",
   "metadata": {},
   "source": [
    "I quickly noticed that when looking at the scatterplots of Year Built and Year Remodeled that there was a curve in the plot. This, combined with the realization above of their multi-colinearity led me to create an interaction term. The flaring in the later years should be accounted for with the log transformation of Sale Price."
   ]
  },
  {
   "cell_type": "code",
   "execution_count": null,
   "id": "c1b078ff-d394-4574-a1f8-48b4082d1c72",
   "metadata": {},
   "outputs": [],
   "source": [
    "fig, ax = plt.subplots(1, 3, sharey='all', figsize=(16, 5))\n",
    "\n",
    "for x, col in enumerate([x for x in train.columns if 'year' in x]):\n",
    "    ax[x].scatter(train[col], np.log(train['saleprice']))\n",
    "    ax[x].set_xlabel(col)\n",
    "    \n",
    "ax[0].set_ylabel('Sale Price')\n"
   ]
  },
  {
   "cell_type": "code",
   "execution_count": null,
   "id": "e5fa43b6-9302-4c11-8c3b-a6c4d3566cf9",
   "metadata": {},
   "outputs": [],
   "source": [
    "train[train['year_remod/add'] <= 1950]"
   ]
  },
  {
   "cell_type": "code",
   "execution_count": null,
   "id": "f4fe8e9f-1aa2-46de-bcb5-1b5b0310c15e",
   "metadata": {},
   "outputs": [],
   "source": []
  }
 ],
 "metadata": {
  "kernelspec": {
   "display_name": "Python 3 (ipykernel)",
   "language": "python",
   "name": "python3"
  },
  "language_info": {
   "codemirror_mode": {
    "name": "ipython",
    "version": 3
   },
   "file_extension": ".py",
   "mimetype": "text/x-python",
   "name": "python",
   "nbconvert_exporter": "python",
   "pygments_lexer": "ipython3",
   "version": "3.9.7"
  }
 },
 "nbformat": 4,
 "nbformat_minor": 5
}
