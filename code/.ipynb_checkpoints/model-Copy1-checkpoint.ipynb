{
 "cells": [
  {
   "cell_type": "markdown",
   "id": "b1fb60d8-ce3d-462d-94b4-77fcea16d4f9",
   "metadata": {},
   "source": [
    "## Models, Models, Models!"
   ]
  },
  {
   "cell_type": "code",
   "execution_count": 2,
   "id": "b844f8b7-a71f-4560-b8f5-e54d1bf23436",
   "metadata": {},
   "outputs": [],
   "source": [
    "import pandas as pd\n",
    "import numpy as np\n",
    "import seaborn as sns\n",
    "import matplotlib.pyplot as plt\n",
    "\n",
    "from sklearn.linear_model import LinearRegression, Lasso, LassoCV, Ridge, RidgeCV\n",
    "from sklearn.compose import ColumnTransformer\n",
    "from sklearn.preprocessing import StandardScaler, OneHotEncoder, PolynomialFeatures\n",
    "from sklearn.model_selection import train_test_split, cross_val_score, GridSearchCV\n",
    "from sklearn.metrics import mean_squared_error\n",
    "from sklearn.pipeline import Pipeline"
   ]
  },
  {
   "cell_type": "markdown",
   "id": "6a2808d3-79b5-4f61-9851-7003379edf68",
   "metadata": {},
   "source": [
    "### Train/Validation Split"
   ]
  },
  {
   "cell_type": "code",
   "execution_count": 3,
   "id": "c67736b3-aca7-43de-a267-a435c5299ffc",
   "metadata": {},
   "outputs": [],
   "source": [
    "#read in chosen clean data set and specify which columns to analyze\n",
    "cols_of_interest = ['garage_area', 'total_bsmt_sf', 'bsmt_full_bath', 'full_bath', 'bsmt_half_bath', 'half_bath','overall_qual', 'gr_liv_area', 'year_built', 'year_remod/add']\n",
    "data = pd.read_csv('../data/cleaned_train')\n",
    "X = data[cols_of_interest]\n",
    "y = data['saleprice']\n",
    "\n",
    "X_train, X_val, y_train, y_val = train_test_split(X, y, test_size=.2, random_state=8)\n",
    "\n",
    "\n"
   ]
  },
  {
   "cell_type": "markdown",
   "id": "5091d281-efd8-4a8e-af55-1e2524a72bcf",
   "metadata": {},
   "source": [
    "### Null Model"
   ]
  },
  {
   "cell_type": "markdown",
   "id": "6d86cc49-b586-4775-affa-a28b2c579a2e",
   "metadata": {},
   "source": [
    "Below is our RMSE score and percent variance to beat."
   ]
  },
  {
   "cell_type": "code",
   "execution_count": 4,
   "id": "f6732e23-755f-4c2d-8baf-0c1eb17cb46b",
   "metadata": {},
   "outputs": [
    {
     "name": "stdout",
     "output_type": "stream",
     "text": [
      "Null Training RMSE: 78287.72\n",
      "Null Validation RMSE: 82946.12\n",
      "Null RMSE Variance: 5.95%\n"
     ]
    }
   ],
   "source": [
    "null_pred = y_train.mean()\n",
    "null_train_rmse = mean_squared_error(y_train, np.full_like(y_train, null_pred), squared=False)\n",
    "null_val_rmse = mean_squared_error(y_val, np.full_like(y_val, null_pred), squared=False)\n",
    "print(f\"Null Training RMSE: {round(null_train_rmse, 2)}\")\n",
    "print(f\"Null Validation RMSE: {round(null_val_rmse, 2)}\")\n",
    "print(f\"Null RMSE Variance: {round(((null_val_rmse - null_train_rmse)/null_train_rmse) * 100, 2)}%\")"
   ]
  },
  {
   "cell_type": "markdown",
   "id": "7a53ad78-9340-4850-881f-542a894b0ee6",
   "metadata": {
    "tags": []
   },
   "source": [
    "### Iterative Modeling"
   ]
  },
  {
   "cell_type": "markdown",
   "id": "a688f014-2026-4c85-809d-ac30d00af960",
   "metadata": {},
   "source": [
    "#### Helper Functions"
   ]
  },
  {
   "cell_type": "code",
   "execution_count": 5,
   "id": "2c1f2c37-5c82-451f-b52c-23f9a1b0a8d7",
   "metadata": {},
   "outputs": [],
   "source": [
    "#could also use make_scorer\n",
    "def rmse(estimator, X, y):\n",
    "    '''\n",
    "    Converts SkLearn's mean_squared_error function into one useable by cross_val_score\n",
    "    Returns the Root Mean Squared Error of the given estimator's predictions on X, compared to y\n",
    "    '''\n",
    "    return mean_squared_error(y, estimator.predict(X), squared=False)"
   ]
  },
  {
   "cell_type": "code",
   "execution_count": 6,
   "id": "a8c45a40-1688-4a2e-b8b5-14717ceb797b",
   "metadata": {},
   "outputs": [],
   "source": [
    "def print_rmse(model, y_train, y_train_pred, y_val, y_val_pred):\n",
    "    '''\n",
    "    Prints the training and validation Root Mean Squared Error for the given estimator with the given predictions\n",
    "    Returns the Training RMSE, Validation RMSE, and Percent Variance between the two\n",
    "    '''\n",
    "    train_rmse = mean_squared_error(y_train, y_train_pred, squared=False)\n",
    "    val_rmse = mean_squared_error(y_val, y_val_pred, squared=False)\n",
    "    print(f\"{model} Training RMSE: {round(train_rmse, 2)}\")\n",
    "    print(f\"{model} Validation RMSE: {round(val_rmse, 2)}\")\n",
    "    return train_rmse, val_rmse, ((val_rmse - train_rmse)/train_rmse) * 100"
   ]
  },
  {
   "cell_type": "markdown",
   "id": "3588146e-0841-4db5-ac96-cab7b9ca879c",
   "metadata": {},
   "source": [
    "#### Linear Regression"
   ]
  },
  {
   "cell_type": "code",
   "execution_count": 7,
   "id": "58ab88ec-f42c-43fc-9160-e13189c35306",
   "metadata": {},
   "outputs": [
    {
     "name": "stdout",
     "output_type": "stream",
     "text": [
      "LinearRegression() Training RMSE: 34452.87\n",
      "LinearRegression() Validation RMSE: 40499.58\n"
     ]
    },
    {
     "data": {
      "text/plain": [
       "(34452.86503832578, 40499.576009698474, 17.550676742402306)"
      ]
     },
     "execution_count": 7,
     "metadata": {},
     "output_type": "execute_result"
    }
   ],
   "source": [
    "#scale data\n",
    "sc = StandardScaler()\n",
    "X_train_sc =  sc.fit_transform(X_train)\n",
    "X_val_sc = sc.transform(X_val)\n",
    "\n",
    "#instantiate and fit\n",
    "lr = LinearRegression()\n",
    "lr.fit(X_train_sc, y_train)\n",
    "\n",
    "#predict\n",
    "lr_train_preds = lr.predict(X_train_sc)\n",
    "lr_val_preds = lr.predict(X_val_sc)\n",
    "\n",
    "#evaluate\n",
    "print_rmse(lr, y_train, lr_train_preds, y_val, lr_val_preds)"
   ]
  },
  {
   "cell_type": "code",
   "execution_count": 8,
   "id": "f7b21c31-f064-4bcf-ba78-8f2cf18ca9ab",
   "metadata": {},
   "outputs": [
    {
     "data": {
      "text/plain": [
       "array([33264.21823226, 32061.22055741, 35195.27559991, 44416.29260667,\n",
       "       32164.73128547])"
      ]
     },
     "execution_count": 8,
     "metadata": {},
     "output_type": "execute_result"
    }
   ],
   "source": [
    "cross_val_score(lr, X_train, y_train, scoring=rmse)"
   ]
  },
  {
   "cell_type": "code",
   "execution_count": 9,
   "id": "d867c03d-4e4c-41b4-9693-084be72f93b5",
   "metadata": {},
   "outputs": [
    {
     "data": {
      "text/plain": [
       "Index(['garage_area', 'total_bsmt_sf', 'bsmt_full_bath', 'full_bath',\n",
       "       'bsmt_half_bath', 'half_bath', 'overall_qual', 'gr_liv_area',\n",
       "       'year_built', 'year_remod/add'],\n",
       "      dtype='object')"
      ]
     },
     "execution_count": 9,
     "metadata": {},
     "output_type": "execute_result"
    }
   ],
   "source": [
    "X_train._get_numeric_data().columns\n"
   ]
  },
  {
   "cell_type": "markdown",
   "id": "79752677-76d7-443c-ac11-458e6b82cc2b",
   "metadata": {},
   "source": [
    "#### Lasso"
   ]
  },
  {
   "cell_type": "code",
   "execution_count": 42,
   "id": "d84c1af7-1773-4909-9991-6de9176fc59b",
   "metadata": {},
   "outputs": [],
   "source": [
    "#adapted from class code extra-extras\n",
    "\n",
    "ctx = ColumnTransformer(\n",
    "    [('ss', StandardScaler(), X_train._get_numeric_data().columns),\n",
    "    ('ohe', OneHotEncoder(handle_unknown = 'ignore'), [x for x in X_train.columns if x not in X_train._get_numeric_data().columns])\n",
    "    ]\n",
    ")\n",
    "\n",
    "lasso_pipe = Pipeline([\n",
    "    ('ctx', ctx),\n",
    "    ('lasso', Lasso())\n",
    "])\n",
    "\n",
    "lasso_params = {\n",
    "    'ctx__remainder' : ['passthrough'], # keep untransformed columns\n",
    "    'lasso__alpha' : np.linspace(2000, 3000, num=1000)\n",
    "}"
   ]
  },
  {
   "cell_type": "code",
   "execution_count": 43,
   "id": "10d087c0-d62c-429a-9e36-154a694b2595",
   "metadata": {},
   "outputs": [],
   "source": [
    "lasso_gs = GridSearchCV(lasso_pipe, lasso_params, scoring=rmse).fit(X_train, y_train)"
   ]
  },
  {
   "cell_type": "code",
   "execution_count": 44,
   "id": "6180b5d9-848f-4044-8e8b-8c5120c323ed",
   "metadata": {},
   "outputs": [
    {
     "data": {
      "text/plain": [
       "(35778.6998781654,\n",
       " {'ctx__remainder': 'passthrough', 'lasso__alpha': 3000.0},\n",
       " array([ 9284.69762423,  9958.47419588,  5373.87258015,     0.        ,\n",
       "            0.        ,     0.        , 27839.01757434, 24717.87644094,\n",
       "         5409.21331499,  4847.20630276]))"
      ]
     },
     "execution_count": 44,
     "metadata": {},
     "output_type": "execute_result"
    }
   ],
   "source": [
    "lasso_gs.best_score_, lasso_gs.best_params_, lasso_gs.best_estimator_.named_steps.lasso.coef_"
   ]
  },
  {
   "cell_type": "code",
   "execution_count": null,
   "id": "a14df11b-13eb-4187-aa4f-48d1528c4568",
   "metadata": {},
   "outputs": [],
   "source": []
  },
  {
   "cell_type": "code",
   "execution_count": 38,
   "id": "b9b287e4-0c95-4f0b-8576-e1347bac3e30",
   "metadata": {},
   "outputs": [
    {
     "data": {
      "text/plain": [
       "(35502.19265327981,\n",
       " {'ctx__remainder': 'passthrough', 'lasso__alpha': 829.0},\n",
       " array([ 9731.59928579, 10318.50364051,  7142.4197855 ,  -153.37274988,\n",
       "         1123.96482022,    -0.        , 27581.99452329, 26194.96838186,\n",
       "         6096.08158308,  5794.23440427]))"
      ]
     },
     "execution_count": 38,
     "metadata": {},
     "output_type": "execute_result"
    }
   ],
   "source": [
    "lasso_gs.best_score_, lasso_gs.best_params_, lasso_gs.best_estimator_.named_steps.lasso.coef_"
   ]
  },
  {
   "cell_type": "code",
   "execution_count": null,
   "id": "3942ca7a-26c3-42b9-b31c-c934b6ac18cb",
   "metadata": {},
   "outputs": [],
   "source": [
    "cross_val_score(lasso_gs, X_train, y_train, scoring=rmse)"
   ]
  },
  {
   "cell_type": "markdown",
   "id": "2b5f1773-a7ad-4431-aeea-fdaf63acece6",
   "metadata": {},
   "source": [
    "#### Ridge"
   ]
  },
  {
   "cell_type": "code",
   "execution_count": 45,
   "id": "ca8e8928-a079-46a0-9f99-4f26e3782c9a",
   "metadata": {},
   "outputs": [],
   "source": [
    "#adapted from class code extra-extras\n",
    "\n",
    "ctx = ColumnTransformer(\n",
    "    [('ss', StandardScaler(), X_train._get_numeric_data().columns),\n",
    "    ('ohe', OneHotEncoder(handle_unknown = 'ignore'), [x for x in X_train.columns if x not in X_train._get_numeric_data().columns])\n",
    "    ]\n",
    ")\n",
    "\n",
    "ridge_pipe = Pipeline([\n",
    "    ('ctx', ctx),\n",
    "    ('ridge', Ridge())\n",
    "])\n",
    "\n",
    "ridge_params = {\n",
    "    'ctx__remainder' : ['passthrough'], # keep untransformed columns\n",
    "    'ridge__alpha' : np.linspace(1, 3000, num=3000)\n",
    "}"
   ]
  },
  {
   "cell_type": "code",
   "execution_count": null,
   "id": "771a8d08-ecd7-45ba-b877-02112d4372a1",
   "metadata": {},
   "outputs": [],
   "source": [
    "ridge_gs = GridSearchCV(ridge_pipe, ridge_params, scoring=rmse).fit(X_train, y_train)"
   ]
  },
  {
   "cell_type": "code",
   "execution_count": null,
   "id": "327cc669-f4c1-4805-919d-9198c19de3cd",
   "metadata": {},
   "outputs": [],
   "source": [
    "ridge_gs.best_score_, ridge_gs.best_params_"
   ]
  },
  {
   "cell_type": "code",
   "execution_count": null,
   "id": "f220e2e7-088f-42ad-87d9-2b33e1c1af5b",
   "metadata": {},
   "outputs": [],
   "source": [
    "cross_val_score(ridge_gs, X_train, y_train, scoring=rmse)"
   ]
  },
  {
   "cell_type": "code",
   "execution_count": null,
   "id": "20575077-db91-48e7-910e-2a321e8981fb",
   "metadata": {},
   "outputs": [],
   "source": []
  }
 ],
 "metadata": {
  "kernelspec": {
   "display_name": "Python [conda env:dsi]",
   "language": "python",
   "name": "conda-env-dsi-py"
  },
  "language_info": {
   "codemirror_mode": {
    "name": "ipython",
    "version": 3
   },
   "file_extension": ".py",
   "mimetype": "text/x-python",
   "name": "python",
   "nbconvert_exporter": "python",
   "pygments_lexer": "ipython3",
   "version": "3.9.7"
  }
 },
 "nbformat": 4,
 "nbformat_minor": 5
}
